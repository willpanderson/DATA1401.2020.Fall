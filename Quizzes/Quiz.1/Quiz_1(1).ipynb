{
  "nbformat": 4,
  "nbformat_minor": 0,
  "metadata": {
    "kernelspec": {
      "display_name": "Python 3",
      "language": "python",
      "name": "python3"
    },
    "language_info": {
      "codemirror_mode": {
        "name": "ipython",
        "version": 3
      },
      "file_extension": ".py",
      "mimetype": "text/x-python",
      "name": "python",
      "nbconvert_exporter": "python",
      "pygments_lexer": "ipython3",
      "version": "3.8.0"
    },
    "colab": {
      "name": "Quiz.1.ipynb",
      "provenance": []
    }
  },
  "cells": [
    {
      "cell_type": "markdown",
      "metadata": {
        "id": "S1VnWJixkXgG"
      },
      "source": [
        "# Quiz 1\n",
        "\n",
        "1. Using the lists below, create a function (`make_deck`) that returns a list of the 52 cards in a usual playing card deck. Represent each card as a tuple (e.g. `('Clubs', 3)`). "
      ]
    },
    {
      "cell_type": "code",
      "metadata": {
        "id": "O5lSpZOTkXgJ",
        "outputId": "7f34536f-278f-4651-a311-e79470a79fc7",
        "colab": {
          "base_uri": "https://localhost:8080/",
          "height": 52
        }
      },
      "source": [
        "suits = [\"Clubs\", \"Diamonds\", \"Hearts\", \"Spades\"]\n",
        "values = list(range(2,11)) + [ \"Jack\", \"Queen\", \"King\", \"Ace\"]\n",
        "print(suits)\n",
        "print(values)"
      ],
      "execution_count": 1,
      "outputs": [
        {
          "output_type": "stream",
          "text": [
            "['Clubs', 'Diamonds', 'Hearts', 'Spades']\n",
            "[2, 3, 4, 5, 6, 7, 8, 9, 10, 'Jack', 'Queen', 'King', 'Ace']\n"
          ],
          "name": "stdout"
        }
      ]
    },
    {
      "cell_type": "code",
      "metadata": {
        "id": "UNxLrWmPkXga"
      },
      "source": [
        "# Your solution here\n",
        "\n",
        "def make_deck():\n",
        "  deck = [(r, s) for r in suits for s in values]\n",
        "  print(deck)   \n",
        "  return deck"
      ],
      "execution_count": 66,
      "outputs": []
    },
    {
      "cell_type": "code",
      "metadata": {
        "id": "2AQpXY6rkXgs",
        "outputId": "26b527a3-5def-4d39-9e4f-2afca9188c3f",
        "colab": {
          "base_uri": "https://localhost:8080/",
          "height": 957
        }
      },
      "source": [
        "# Test your solution here\n",
        "\n",
        "make_deck()"
      ],
      "execution_count": 67,
      "outputs": [
        {
          "output_type": "stream",
          "text": [
            "[('Clubs', 2), ('Clubs', 3), ('Clubs', 4), ('Clubs', 5), ('Clubs', 6), ('Clubs', 7), ('Clubs', 8), ('Clubs', 9), ('Clubs', 10), ('Clubs', 'Jack'), ('Clubs', 'Queen'), ('Clubs', 'King'), ('Clubs', 'Ace'), ('Diamonds', 2), ('Diamonds', 3), ('Diamonds', 4), ('Diamonds', 5), ('Diamonds', 6), ('Diamonds', 7), ('Diamonds', 8), ('Diamonds', 9), ('Diamonds', 10), ('Diamonds', 'Jack'), ('Diamonds', 'Queen'), ('Diamonds', 'King'), ('Diamonds', 'Ace'), ('Hearts', 2), ('Hearts', 3), ('Hearts', 4), ('Hearts', 5), ('Hearts', 6), ('Hearts', 7), ('Hearts', 8), ('Hearts', 9), ('Hearts', 10), ('Hearts', 'Jack'), ('Hearts', 'Queen'), ('Hearts', 'King'), ('Hearts', 'Ace'), ('Spades', 2), ('Spades', 3), ('Spades', 4), ('Spades', 5), ('Spades', 6), ('Spades', 7), ('Spades', 8), ('Spades', 9), ('Spades', 10), ('Spades', 'Jack'), ('Spades', 'Queen'), ('Spades', 'King'), ('Spades', 'Ace')]\n"
          ],
          "name": "stdout"
        },
        {
          "output_type": "execute_result",
          "data": {
            "text/plain": [
              "[('Clubs', 2),\n",
              " ('Clubs', 3),\n",
              " ('Clubs', 4),\n",
              " ('Clubs', 5),\n",
              " ('Clubs', 6),\n",
              " ('Clubs', 7),\n",
              " ('Clubs', 8),\n",
              " ('Clubs', 9),\n",
              " ('Clubs', 10),\n",
              " ('Clubs', 'Jack'),\n",
              " ('Clubs', 'Queen'),\n",
              " ('Clubs', 'King'),\n",
              " ('Clubs', 'Ace'),\n",
              " ('Diamonds', 2),\n",
              " ('Diamonds', 3),\n",
              " ('Diamonds', 4),\n",
              " ('Diamonds', 5),\n",
              " ('Diamonds', 6),\n",
              " ('Diamonds', 7),\n",
              " ('Diamonds', 8),\n",
              " ('Diamonds', 9),\n",
              " ('Diamonds', 10),\n",
              " ('Diamonds', 'Jack'),\n",
              " ('Diamonds', 'Queen'),\n",
              " ('Diamonds', 'King'),\n",
              " ('Diamonds', 'Ace'),\n",
              " ('Hearts', 2),\n",
              " ('Hearts', 3),\n",
              " ('Hearts', 4),\n",
              " ('Hearts', 5),\n",
              " ('Hearts', 6),\n",
              " ('Hearts', 7),\n",
              " ('Hearts', 8),\n",
              " ('Hearts', 9),\n",
              " ('Hearts', 10),\n",
              " ('Hearts', 'Jack'),\n",
              " ('Hearts', 'Queen'),\n",
              " ('Hearts', 'King'),\n",
              " ('Hearts', 'Ace'),\n",
              " ('Spades', 2),\n",
              " ('Spades', 3),\n",
              " ('Spades', 4),\n",
              " ('Spades', 5),\n",
              " ('Spades', 6),\n",
              " ('Spades', 7),\n",
              " ('Spades', 8),\n",
              " ('Spades', 9),\n",
              " ('Spades', 10),\n",
              " ('Spades', 'Jack'),\n",
              " ('Spades', 'Queen'),\n",
              " ('Spades', 'King'),\n",
              " ('Spades', 'Ace')]"
            ]
          },
          "metadata": {
            "tags": []
          },
          "execution_count": 67
        }
      ]
    },
    {
      "cell_type": "markdown",
      "metadata": {
        "id": "3YNLVnUrkXg8"
      },
      "source": [
        "2. Create the following functions that take in a list of [usually 5] cards (`hand`) and return True/False:\n",
        "    * `flush(hand)`: Checks if the cards in the hand are of the same suit.\n",
        "    * `straight(hand)`: Checks if the cards in the hand are in a order.\n",
        "        * You can start with just checking numerical cards.\n",
        "        * Extra Credit: Include all cards.\n",
        "    * `straight_flush(hand)`: Combination of both."
      ]
    },
    {
      "cell_type": "code",
      "metadata": {
        "id": "efW1S3dakXg9"
      },
      "source": [
        "# Your solution here\n",
        "\n",
        "def flush(hand):\n",
        "  for i in range(len(hand)):\n",
        "    if min(hand[i])>=10:\n",
        "      result = true\n",
        "    else:\n",
        "      result = false\n",
        "  return result\n",
        "\n",
        "def straight(hand):\n",
        "  straight=0\n",
        "  list.sort(hand)\n",
        "  for i in range(len(hand)):\n",
        "    if hand[i]==hand[i]+1:\n",
        "      straight+=1\n",
        "  if straght==(len(hand)):\n",
        "    result = true\n",
        "  return result\n",
        "\n",
        "def straight_flush(hand):\n",
        "  return straight(hand) and flush(hand)\n",
        "\n",
        "\n"
      ],
      "execution_count": 77,
      "outputs": []
    },
    {
      "cell_type": "code",
      "metadata": {
        "id": "thUmmXMdkXhU"
      },
      "source": [
        "# Test your solution here\n",
        "\n"
      ],
      "execution_count": 79,
      "outputs": []
    }
  ]
}