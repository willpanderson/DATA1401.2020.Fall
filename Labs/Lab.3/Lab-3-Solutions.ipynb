{
  "nbformat": 4,
  "nbformat_minor": 0,
  "metadata": {
    "colab": {
      "name": "Lab.3-Copy1.ipynb",
      "provenance": []
    },
    "kernelspec": {
      "display_name": "Python 3",
      "language": "python",
      "name": "python3"
    },
    "language_info": {
      "codemirror_mode": {
        "name": "ipython",
        "version": 3
      },
      "file_extension": ".py",
      "mimetype": "text/x-python",
      "name": "python",
      "nbconvert_exporter": "python",
      "pygments_lexer": "ipython3",
      "version": "3.8.2"
    }
  },
  "cells": [
    {
      "cell_type": "markdown",
      "metadata": {
        "id": "YuaEkVael6wx"
      },
      "source": [
        "# Lab 3- Tic Tac Toe\n",
        "\n",
        "[![Open In Colab](https://colab.research.google.com/assets/colab-badge.svg)](https://colab.research.google.com/github//afarbin/DATA1401-Spring-2020/blob/master/Labs/Lab-3/Lab-3.ipynb)\n",
        "\n",
        "In this lab your will build a n x n Tic Tac Toe game. As you do the exercises, make sure your solutions work for any size Tic Tac Toe game. "
      ]
    },
    {
      "cell_type": "markdown",
      "metadata": {
        "id": "7rZcHrSEl6w2"
      },
      "source": [
        "*Exercise 1:* Write a function that creates an n by n matrix (of list of lists) which will represent the state of a Tie Tac Toe game. Let 0, 1, and 2 represent empty, \"X\", or \"O\".\n"
      ]
    },
    {
      "cell_type": "code",
      "metadata": {
        "id": "qCG0daLAl6w4"
      },
      "source": [
        "# Write you solution here\n",
        "\n",
        "empty = 0\n",
        "player1 = 1\n",
        "player2 = 2\n",
        "playerstate = {0: \" \", 1: \"X\", 2: \"O\"}\n",
        "\n",
        "def make_game(n=3):\n",
        "  return [[empty] * n for i in range(n)]\n"
      ],
      "execution_count": 62,
      "outputs": []
    },
    {
      "cell_type": "code",
      "metadata": {
        "id": "xLZxreLTl6w_",
        "outputId": "12157025-d33f-46f7-82ff-4de7f07e5102",
        "colab": {
          "base_uri": "https://localhost:8080/",
          "height": 34
        }
      },
      "source": [
        "# Test your solution here\n",
        "print(make_game())"
      ],
      "execution_count": 61,
      "outputs": [
        {
          "output_type": "stream",
          "text": [
            "[[0, 0, 0], [0, 0, 0], [0, 0, 0]]\n"
          ],
          "name": "stdout"
        }
      ]
    },
    {
      "cell_type": "markdown",
      "metadata": {
        "id": "1Gpsh1YMl6xD"
      },
      "source": [
        "*Exercise 2:* Write a function that takes a `n` by `n` matrix representing a tic-tac-toe game, and returns -1, 0, 1, or 2 indicating the game is incomplete, the game is a draw, player 1 has won, or player 2 has one, respectively. Here are some example inputs you can use to test your code:"
      ]
    },
    {
      "cell_type": "code",
      "metadata": {
        "id": "4edyIxvNl6xF"
      },
      "source": [
        "winner_is_2 = [[2, 2, 0],\n",
        "\t[2, 1, 0],\n",
        "\t[2, 1, 1]]\n",
        "\n",
        "winner_is_1 = [[1, 2, 0],\n",
        "\t[2, 1, 0],\n",
        "\t[2, 1, 1]]\n",
        "\n",
        "winner_is_also_1 = [[0, 1, 0],\n",
        "\t[2, 1, 0],\n",
        "\t[2, 1, 1]]\n",
        "\n",
        "no_winner = [[1, 2, 0],\n",
        "\t[2, 1, 0],\n",
        "\t[2, 1, 2]]\n",
        "\n",
        "also_no_winner = [[1, 2, 0],\n",
        "\t[2, 1, 0],\n",
        "\t[2, 1, 0]]"
      ],
      "execution_count": 37,
      "outputs": []
    },
    {
      "cell_type": "code",
      "metadata": {
        "id": "pMveSEzVl6xN"
      },
      "source": [
        "# Write you solution here\n",
        "\n",
        "def check_game(board):\n",
        "  board_win = [row for row in board] \n",
        "  board_win += [list(row) for row in zip(*board)] \n",
        "  board_win += [[board[i][i] for i in range(len(board))]] \n",
        "  board_win += [[board[len(board) - 1 - i][i] for i in range(len(board))]] \n",
        "  if [1] * len(board) in board_win:\n",
        "    return 1\n",
        "  elif [2] * len(board) in board_win:\n",
        "    return 2\n",
        "  elif True in [board[i][j] == 0 for i in range(len(board)) for j in range(len(board))]:\n",
        "    return -1\n",
        "  else:\n",
        "    return 0\n"
      ],
      "execution_count": 63,
      "outputs": []
    },
    {
      "cell_type": "code",
      "metadata": {
        "id": "jFvUimXMl6xS",
        "outputId": "86094b0b-bce9-4bc3-cd23-ae624ea83a86",
        "colab": {
          "base_uri": "https://localhost:8080/",
          "height": 104
        }
      },
      "source": [
        "# Test your solution here\n",
        "\n",
        "print(check_game(winner_is_2))\n",
        "print(check_game(winner_is_1))\n",
        "print(check_game(winner_is_also_1))\n",
        "print(check_game(no_winner))\n",
        "print(check_game(also_no_winner))"
      ],
      "execution_count": 67,
      "outputs": [
        {
          "output_type": "stream",
          "text": [
            "2\n",
            "1\n",
            "1\n",
            "0\n",
            "1\n"
          ],
          "name": "stdout"
        }
      ]
    },
    {
      "cell_type": "markdown",
      "metadata": {
        "id": "KJ67s2CZl6xb"
      },
      "source": [
        "*Exercise 3:* Write a function that takes 2 integers `n` and `m` as input and draws a `n` by `m` game board. For example the following is a 3x3 board:\n",
        "```\n",
        "   --- --- --- \n",
        "  |   |   |   | \n",
        "   --- --- ---  \n",
        "  |   |   |   | \n",
        "   --- --- ---  \n",
        "  |   |   |   | \n",
        "   --- --- --- \n",
        "   ```"
      ]
    },
    {
      "cell_type": "code",
      "metadata": {
        "id": "u3NzwB4Jl6xd"
      },
      "source": [
        "# Write you solution here\n",
        "\n",
        "def draw_game(m, n):\n",
        "  for row in range(m):\n",
        "    line_1 = \"\"\n",
        "    line_2 = \"\"\n",
        "    for col in range(n):\n",
        "      line_1 += \" ---\"\n",
        "      line_2 += \"|   \"\n",
        "    line_2 += \"|\"\n",
        "    print(line_1)\n",
        "    print(line_2)\n",
        "  bottom = \"\"\n",
        "  for col in range(n):\n",
        "    bottom += \" ---\"\n",
        "  print(bottom)\n"
      ],
      "execution_count": 64,
      "outputs": []
    },
    {
      "cell_type": "code",
      "metadata": {
        "id": "wrLb0jtcl6xi",
        "outputId": "627bcf84-ed20-43fd-a63c-28c841d03dd7",
        "colab": {
          "base_uri": "https://localhost:8080/",
          "height": 399
        }
      },
      "source": [
        "# Test your solution here\n",
        "\n",
        "draw_game(1, 1)\n",
        "draw_game(2, 2)\n",
        "draw_game(2, 4)\n",
        "draw_game(4, 8)"
      ],
      "execution_count": 65,
      "outputs": [
        {
          "output_type": "stream",
          "text": [
            " ---\n",
            "|   |\n",
            " ---\n",
            " --- ---\n",
            "|   |   |\n",
            " --- ---\n",
            "|   |   |\n",
            " --- ---\n",
            " --- --- --- ---\n",
            "|   |   |   |   |\n",
            " --- --- --- ---\n",
            "|   |   |   |   |\n",
            " --- --- --- ---\n",
            " --- --- --- --- --- --- --- ---\n",
            "|   |   |   |   |   |   |   |   |\n",
            " --- --- --- --- --- --- --- ---\n",
            "|   |   |   |   |   |   |   |   |\n",
            " --- --- --- --- --- --- --- ---\n",
            "|   |   |   |   |   |   |   |   |\n",
            " --- --- --- --- --- --- --- ---\n",
            "|   |   |   |   |   |   |   |   |\n",
            " --- --- --- --- --- --- --- ---\n"
          ],
          "name": "stdout"
        }
      ]
    },
    {
      "cell_type": "markdown",
      "metadata": {
        "id": "nUAE_QUal6xq"
      },
      "source": [
        "*Exercise 4:* Modify exercise 3, so that it takes a matrix of the form from exercise 2 and draws a tic-tac-tie board with \"X\"s and \"O\"s.  "
      ]
    },
    {
      "cell_type": "code",
      "metadata": {
        "id": "fGddb0gIl6xs"
      },
      "source": [
        "# Write you solution here\n",
        "\n",
        "def draw_game(board):\n",
        "  for row in board:\n",
        "    line_1 = \"\"\n",
        "    line_2 = \"\"\n",
        "    for col in row:\n",
        "      line_1 += \" ---\"\n",
        "      line_2 += \"| \" + playerstate[col] + \" \"\n",
        "    line_2 += \"|\"\n",
        "    print(line_1)\n",
        "    print(line_2)\n",
        "  bottom = \"\"\n",
        "  for col in board:\n",
        "    bottom += \" ---\"\n",
        "  print(bottom)\n"
      ],
      "execution_count": 68,
      "outputs": []
    },
    {
      "cell_type": "code",
      "metadata": {
        "id": "DNm_lodnl6xy",
        "outputId": "a090bbd2-9d2a-4fd3-8ed3-9daa7c616f29",
        "colab": {
          "base_uri": "https://localhost:8080/",
          "height": 625
        }
      },
      "source": [
        "# Test your solution here\n",
        "\n",
        "draw_game(winner_is_1)\n",
        "draw_game(winner_is_2)\n",
        "draw_game(winner_is_also_1)\n",
        "draw_game(no_winner)\n",
        "draw_game(also_no_winner)"
      ],
      "execution_count": 69,
      "outputs": [
        {
          "output_type": "stream",
          "text": [
            " --- --- ---\n",
            "| X | O |   |\n",
            " --- --- ---\n",
            "| O | X |   |\n",
            " --- --- ---\n",
            "| O | X | X |\n",
            " --- --- ---\n",
            " --- --- ---\n",
            "| O | O |   |\n",
            " --- --- ---\n",
            "| O | X |   |\n",
            " --- --- ---\n",
            "| O | X | X |\n",
            " --- --- ---\n",
            " --- --- ---\n",
            "|   | X |   |\n",
            " --- --- ---\n",
            "| O | X |   |\n",
            " --- --- ---\n",
            "| O | X | X |\n",
            " --- --- ---\n",
            " --- --- ---\n",
            "| X | O | X |\n",
            " --- --- ---\n",
            "| O | X | X |\n",
            " --- --- ---\n",
            "| O | X | O |\n",
            " --- --- ---\n",
            " --- --- ---\n",
            "| X | O | O |\n",
            " --- --- ---\n",
            "| O | X |   |\n",
            " --- --- ---\n",
            "| O | X | X |\n",
            " --- --- ---\n"
          ],
          "name": "stdout"
        }
      ]
    },
    {
      "cell_type": "markdown",
      "metadata": {
        "id": "ehxOT9Ehl6x4"
      },
      "source": [
        "*Exercise 5:* Write a function that takes a game board, player number, and `(x,y)` coordinates and places \"X\" or \"O\" in the correct location of the game board. Make sure that you only allow filling previously empty locations. Return `True` or `False` to indicate successful placement of \"X\" or \"O\"."
      ]
    },
    {
      "cell_type": "code",
      "metadata": {
        "id": "MfTefPdll6x5"
      },
      "source": [
        "# Write you solution here\n",
        "\n",
        "def place(board, player, coordinates):\n",
        "  x,y = coordinates\n",
        "  if board[x][y] == 0:\n",
        "      board[x][y] = player\n",
        "      return True\n",
        "  else:\n",
        "      return False"
      ],
      "execution_count": 70,
      "outputs": []
    },
    {
      "cell_type": "code",
      "metadata": {
        "id": "wk7OoaNcl6yA",
        "outputId": "a8722511-65eb-4c4e-f805-83f05b99fc93",
        "colab": {
          "base_uri": "https://localhost:8080/",
          "height": 139
        }
      },
      "source": [
        "# Test your solution here\n",
        "\n",
        "test = make_game()\n",
        "place(test, 2, (2, 0))\n",
        "place(test, 1, (1, 1))\n",
        "draw_game(test)"
      ],
      "execution_count": 71,
      "outputs": [
        {
          "output_type": "stream",
          "text": [
            " --- --- ---\n",
            "|   |   |   |\n",
            " --- --- ---\n",
            "|   | X |   |\n",
            " --- --- ---\n",
            "| O |   |   |\n",
            " --- --- ---\n"
          ],
          "name": "stdout"
        }
      ]
    },
    {
      "cell_type": "markdown",
      "metadata": {
        "id": "OXmrF3VBl6yG"
      },
      "source": [
        "*Exercise 6:* Modify Exercise 4 to show column and row labels so that players can specify location using \"A2\" or \"C1\"."
      ]
    },
    {
      "cell_type": "code",
      "metadata": {
        "id": "5luh37Ovl6yI"
      },
      "source": [
        "# Write you solution here\n",
        "\n",
        "alphabet = \"ABCDEFGHIJKLMNOPQRSTUVWXYZ\"\n",
        "\n",
        "def draw_game(board):\n",
        "  top = \"   \"\n",
        "  for col in range(1, len(board) + 1):\n",
        "    top += \" \" + str(col) + \"  \"\n",
        "  print(top)\n",
        "  r = 0\n",
        "  for row in board:\n",
        "    line_1 = \"  \"\n",
        "    line_2 = alphabet[r] + \" \"\n",
        "    r += 1\n",
        "    for col in row:\n",
        "      line_1 += \" ---\"\n",
        "      line_2 += \"| \" + playerstate[col] + \" \"\n",
        "    line_2 += \"|\"\n",
        "    print(line_1)\n",
        "    print(line_2)\n",
        "  print(\"  \" + \" ---\" * len(board))"
      ],
      "execution_count": 46,
      "outputs": []
    },
    {
      "cell_type": "code",
      "metadata": {
        "id": "Zo6zTO_ll6yO",
        "scrolled": true,
        "outputId": "b47e57f1-98f0-4a47-9605-3b0d7eec124b",
        "colab": {
          "base_uri": "https://localhost:8080/",
          "height": 712
        }
      },
      "source": [
        "# Test your solution here\n",
        "draw_game(winner_is_1)\n",
        "draw_game(winner_is_2)\n",
        "draw_game(winner_is_also_1)\n",
        "draw_game(no_winner)\n",
        "draw_game(also_no_winner)"
      ],
      "execution_count": 47,
      "outputs": [
        {
          "output_type": "stream",
          "text": [
            "    1   2   3  \n",
            "   --- --- ---\n",
            "A | X | O |   |\n",
            "   --- --- ---\n",
            "B | O | X |   |\n",
            "   --- --- ---\n",
            "C | O | X | X |\n",
            "   --- --- ---\n",
            "    1   2   3  \n",
            "   --- --- ---\n",
            "A | O | O |   |\n",
            "   --- --- ---\n",
            "B | O | X |   |\n",
            "   --- --- ---\n",
            "C | O | X | X |\n",
            "   --- --- ---\n",
            "    1   2   3  \n",
            "   --- --- ---\n",
            "A |   | X |   |\n",
            "   --- --- ---\n",
            "B | O | X |   |\n",
            "   --- --- ---\n",
            "C | O | X | X |\n",
            "   --- --- ---\n",
            "    1   2   3  \n",
            "   --- --- ---\n",
            "A | X | O |   |\n",
            "   --- --- ---\n",
            "B | O | X |   |\n",
            "   --- --- ---\n",
            "C | O | X | O |\n",
            "   --- --- ---\n",
            "    1   2   3  \n",
            "   --- --- ---\n",
            "A | X | O |   |\n",
            "   --- --- ---\n",
            "B | O | X |   |\n",
            "   --- --- ---\n",
            "C | O | X |   |\n",
            "   --- --- ---\n"
          ],
          "name": "stdout"
        }
      ]
    },
    {
      "cell_type": "markdown",
      "metadata": {
        "id": "rlfmfYRWl6yT"
      },
      "source": [
        "*Exercise 7:* Write a function that takes a board, player number, and location specified as in exercise 6 and then calls exercise 5 to correctly modify the board.  "
      ]
    },
    {
      "cell_type": "code",
      "metadata": {
        "id": "R9Lngg8wl6yW"
      },
      "source": [
        "# Write you solution here\n",
        "\n",
        "def move_place(board, player, location):\n",
        "    row = alphabet.find(location[0])\n",
        "    col = int(location[1:]) - 1\n",
        "    if board[row][col] == 0:\n",
        "        place(board, player, (row, col))\n",
        "        return True\n",
        "    else:\n",
        "        print(\"Cannot put \" + playerstate[player] + \" at the location \" + location)\n",
        "        return False\n"
      ],
      "execution_count": 59,
      "outputs": []
    },
    {
      "cell_type": "code",
      "metadata": {
        "id": "on6HRvX7l6ya",
        "scrolled": true,
        "outputId": "8ce3b1e8-daa9-4cbc-8f3b-bf9a97587958",
        "colab": {
          "base_uri": "https://localhost:8080/",
          "height": 295
        }
      },
      "source": [
        "# Test your solution here\n",
        "\n",
        "move_place(no_winner, 1, \"A3\")\n",
        "draw_game(no_winner)\n",
        "move_place(also_no_winner, 1, \"C3\")\n",
        "draw_game(also_no_winner)"
      ],
      "execution_count": 72,
      "outputs": [
        {
          "output_type": "stream",
          "text": [
            "Cannot put X at the location A3\n",
            " --- --- ---\n",
            "| X | O | X |\n",
            " --- --- ---\n",
            "| O | X | X |\n",
            " --- --- ---\n",
            "| O | X | O |\n",
            " --- --- ---\n",
            "Cannot put X at the location C3\n",
            " --- --- ---\n",
            "| X | O | O |\n",
            " --- --- ---\n",
            "| O | X |   |\n",
            " --- --- ---\n",
            "| O | X | X |\n",
            " --- --- ---\n"
          ],
          "name": "stdout"
        }
      ]
    },
    {
      "cell_type": "markdown",
      "metadata": {
        "id": "spCblEgSl6yf"
      },
      "source": [
        "*Exercise 8:* Write a function is called with a board and player number, takes input from the player using python's `input`, and modifies the board using your function from exercise 7. Note that you should keep asking for input until you have gotten a valid input that results in a valid move."
      ]
    },
    {
      "cell_type": "code",
      "metadata": {
        "id": "R2_KLmnhl6yi"
      },
      "source": [
        "# Write you solution here\n",
        "\n",
        "def player_move(board, player):\n",
        "  location = \"A1\"\n",
        "  while True:\n",
        "    draw_game(board)\n",
        "    location = input(\"Placed \" + playerstate[player] + \" at: \").upper()\n",
        "    if location[0] in alphabet and alphabet.find(location[0]) < len(board) and location[1:].isnumeric() and 0 < int(location[1:]) <= len(board) <= 26:\n",
        "      break\n",
        "    else:\n",
        "      print(\"Invalid.\")\n",
        "  if move_place(board, player, location):\n",
        "    return True\n",
        "  else:\n",
        "    return player_move(board, player)\n"
      ],
      "execution_count": 73,
      "outputs": []
    },
    {
      "cell_type": "code",
      "metadata": {
        "id": "5klPGJNVl6yp",
        "outputId": "43abfa96-10bd-4bc4-d9b8-8a75216d12e5",
        "colab": {
          "base_uri": "https://localhost:8080/",
          "height": 607
        }
      },
      "source": [
        "# Test your solution here\n",
        "\n",
        "player_move(no_winner, 1)\n",
        "draw_game(no_winner)\n",
        "player_move(also_no_winner, 2)\n",
        "draw_game(also_no_winner)\n"
      ],
      "execution_count": 52,
      "outputs": [
        {
          "output_type": "stream",
          "text": [
            "    1   2   3  \n",
            "   --- --- ---\n",
            "A | X | O | X |\n",
            "   --- --- ---\n",
            "B | O | X |   |\n",
            "   --- --- ---\n",
            "C | O | X | O |\n",
            "   --- --- ---\n",
            "Placed X at: B3\n",
            "    1   2   3  \n",
            "   --- --- ---\n",
            "A | X | O | X |\n",
            "   --- --- ---\n",
            "B | O | X | X |\n",
            "   --- --- ---\n",
            "C | O | X | O |\n",
            "   --- --- ---\n",
            "    1   2   3  \n",
            "   --- --- ---\n",
            "A | X | O |   |\n",
            "   --- --- ---\n",
            "B | O | X |   |\n",
            "   --- --- ---\n",
            "C | O | X | X |\n",
            "   --- --- ---\n",
            "Placed O at: A3\n",
            "    1   2   3  \n",
            "   --- --- ---\n",
            "A | X | O | O |\n",
            "   --- --- ---\n",
            "B | O | X |   |\n",
            "   --- --- ---\n",
            "C | O | X | X |\n",
            "   --- --- ---\n"
          ],
          "name": "stdout"
        }
      ]
    },
    {
      "cell_type": "markdown",
      "metadata": {
        "id": "RpFgUbL-l6yv"
      },
      "source": [
        "*Exercise 9:* Use all of the previous exercises to implement a full tic-tac-toe game, where an appropriate board is drawn, 2 players are repeatedly asked for a location coordinates of where they wish to place a mark, and the game status is checked until a player wins or a draw occurs."
      ]
    },
    {
      "cell_type": "code",
      "metadata": {
        "id": "cq9kSyn3l6yw"
      },
      "source": [
        "# Write you solution here\n",
        "\n",
        "def tic_tac_toe(n=3):\n",
        "  board = make_game(n)\n",
        "  current_player = True\n",
        "  while check_game(board) == -1:\n",
        "    if current_player:\n",
        "      player_move(board, 1)\n",
        "    else:\n",
        "      player_move(board, 2)\n",
        "    current_player = not current_player\n",
        "  result = check_game(board)\n",
        "  draw_game(board)\n",
        "  print(\"It's a draw!\" if result == 0 else (\"Player 1 wins!\" if result == 1 else \"Player 2 wins!\"))"
      ],
      "execution_count": 53,
      "outputs": []
    },
    {
      "cell_type": "code",
      "metadata": {
        "id": "aBSvAvKWl6yz",
        "outputId": "611ded68-080e-4eec-ac6b-e3fe2605e2be",
        "colab": {
          "base_uri": "https://localhost:8080/",
          "height": 955
        }
      },
      "source": [
        "# Test your solution here\n",
        "tic_tac_toe()"
      ],
      "execution_count": 54,
      "outputs": [
        {
          "output_type": "stream",
          "text": [
            "    1   2   3  \n",
            "   --- --- ---\n",
            "A |   |   |   |\n",
            "   --- --- ---\n",
            "B |   |   |   |\n",
            "   --- --- ---\n",
            "C |   |   |   |\n",
            "   --- --- ---\n",
            "Placed X at: C1\n",
            "    1   2   3  \n",
            "   --- --- ---\n",
            "A |   |   |   |\n",
            "   --- --- ---\n",
            "B |   |   |   |\n",
            "   --- --- ---\n",
            "C | X |   |   |\n",
            "   --- --- ---\n",
            "Placed O at: C2\n",
            "    1   2   3  \n",
            "   --- --- ---\n",
            "A |   |   |   |\n",
            "   --- --- ---\n",
            "B |   |   |   |\n",
            "   --- --- ---\n",
            "C | X | O |   |\n",
            "   --- --- ---\n",
            "Placed X at: A1\n",
            "    1   2   3  \n",
            "   --- --- ---\n",
            "A | X |   |   |\n",
            "   --- --- ---\n",
            "B |   |   |   |\n",
            "   --- --- ---\n",
            "C | X | O |   |\n",
            "   --- --- ---\n",
            "Placed O at: B2\n",
            "    1   2   3  \n",
            "   --- --- ---\n",
            "A | X |   |   |\n",
            "   --- --- ---\n",
            "B |   | O |   |\n",
            "   --- --- ---\n",
            "C | X | O |   |\n",
            "   --- --- ---\n",
            "Placed X at: B1\n",
            "    1   2   3  \n",
            "   --- --- ---\n",
            "A | X |   |   |\n",
            "   --- --- ---\n",
            "B | X | O |   |\n",
            "   --- --- ---\n",
            "C | X | O |   |\n",
            "   --- --- ---\n",
            "Player 1 wins!\n"
          ],
          "name": "stdout"
        }
      ]
    },
    {
      "cell_type": "markdown",
      "metadata": {
        "id": "_ecYRctEl6y3"
      },
      "source": [
        "*Exercise 10:* Test that your game works for 5x5 Tic Tac Toe.  "
      ]
    },
    {
      "cell_type": "code",
      "metadata": {
        "id": "SOV5nKS4l6y5",
        "outputId": "c079d294-b5cb-405f-9786-8131d062b5b0",
        "colab": {
          "base_uri": "https://localhost:8080/",
          "height": 1000
        }
      },
      "source": [
        "# Test your solution here\n",
        "tic_tac_toe(5)"
      ],
      "execution_count": 55,
      "outputs": [
        {
          "output_type": "stream",
          "text": [
            "    1   2   3   4   5  \n",
            "   --- --- --- --- ---\n",
            "A |   |   |   |   |   |\n",
            "   --- --- --- --- ---\n",
            "B |   |   |   |   |   |\n",
            "   --- --- --- --- ---\n",
            "C |   |   |   |   |   |\n",
            "   --- --- --- --- ---\n",
            "D |   |   |   |   |   |\n",
            "   --- --- --- --- ---\n",
            "E |   |   |   |   |   |\n",
            "   --- --- --- --- ---\n",
            "Placed X at: A5\n",
            "    1   2   3   4   5  \n",
            "   --- --- --- --- ---\n",
            "A |   |   |   |   | X |\n",
            "   --- --- --- --- ---\n",
            "B |   |   |   |   |   |\n",
            "   --- --- --- --- ---\n",
            "C |   |   |   |   |   |\n",
            "   --- --- --- --- ---\n",
            "D |   |   |   |   |   |\n",
            "   --- --- --- --- ---\n",
            "E |   |   |   |   |   |\n",
            "   --- --- --- --- ---\n",
            "Placed O at: B4\n",
            "    1   2   3   4   5  \n",
            "   --- --- --- --- ---\n",
            "A |   |   |   |   | X |\n",
            "   --- --- --- --- ---\n",
            "B |   |   |   | O |   |\n",
            "   --- --- --- --- ---\n",
            "C |   |   |   |   |   |\n",
            "   --- --- --- --- ---\n",
            "D |   |   |   |   |   |\n",
            "   --- --- --- --- ---\n",
            "E |   |   |   |   |   |\n",
            "   --- --- --- --- ---\n",
            "Placed X at: A4\n",
            "    1   2   3   4   5  \n",
            "   --- --- --- --- ---\n",
            "A |   |   |   | X | X |\n",
            "   --- --- --- --- ---\n",
            "B |   |   |   | O |   |\n",
            "   --- --- --- --- ---\n",
            "C |   |   |   |   |   |\n",
            "   --- --- --- --- ---\n",
            "D |   |   |   |   |   |\n",
            "   --- --- --- --- ---\n",
            "E |   |   |   |   |   |\n",
            "   --- --- --- --- ---\n",
            "Placed O at: A3\n",
            "    1   2   3   4   5  \n",
            "   --- --- --- --- ---\n",
            "A |   |   | O | X | X |\n",
            "   --- --- --- --- ---\n",
            "B |   |   |   | O |   |\n",
            "   --- --- --- --- ---\n",
            "C |   |   |   |   |   |\n",
            "   --- --- --- --- ---\n",
            "D |   |   |   |   |   |\n",
            "   --- --- --- --- ---\n",
            "E |   |   |   |   |   |\n",
            "   --- --- --- --- ---\n",
            "Placed X at: B5\n",
            "    1   2   3   4   5  \n",
            "   --- --- --- --- ---\n",
            "A |   |   | O | X | X |\n",
            "   --- --- --- --- ---\n",
            "B |   |   |   | O | X |\n",
            "   --- --- --- --- ---\n",
            "C |   |   |   |   |   |\n",
            "   --- --- --- --- ---\n",
            "D |   |   |   |   |   |\n",
            "   --- --- --- --- ---\n",
            "E |   |   |   |   |   |\n",
            "   --- --- --- --- ---\n",
            "Placed O at: C3\n",
            "    1   2   3   4   5  \n",
            "   --- --- --- --- ---\n",
            "A |   |   | O | X | X |\n",
            "   --- --- --- --- ---\n",
            "B |   |   |   | O | X |\n",
            "   --- --- --- --- ---\n",
            "C |   |   | O |   |   |\n",
            "   --- --- --- --- ---\n",
            "D |   |   |   |   |   |\n",
            "   --- --- --- --- ---\n",
            "E |   |   |   |   |   |\n",
            "   --- --- --- --- ---\n",
            "Placed X at: B3\n",
            "    1   2   3   4   5  \n",
            "   --- --- --- --- ---\n",
            "A |   |   | O | X | X |\n",
            "   --- --- --- --- ---\n",
            "B |   |   | X | O | X |\n",
            "   --- --- --- --- ---\n",
            "C |   |   | O |   |   |\n",
            "   --- --- --- --- ---\n",
            "D |   |   |   |   |   |\n",
            "   --- --- --- --- ---\n",
            "E |   |   |   |   |   |\n",
            "   --- --- --- --- ---\n",
            "Placed O at: D2\n",
            "    1   2   3   4   5  \n",
            "   --- --- --- --- ---\n",
            "A |   |   | O | X | X |\n",
            "   --- --- --- --- ---\n",
            "B |   |   | X | O | X |\n",
            "   --- --- --- --- ---\n",
            "C |   |   | O |   |   |\n",
            "   --- --- --- --- ---\n",
            "D |   | O |   |   |   |\n",
            "   --- --- --- --- ---\n",
            "E |   |   |   |   |   |\n",
            "   --- --- --- --- ---\n",
            "Placed X at: D1\n",
            "    1   2   3   4   5  \n",
            "   --- --- --- --- ---\n",
            "A |   |   | O | X | X |\n",
            "   --- --- --- --- ---\n",
            "B |   |   | X | O | X |\n",
            "   --- --- --- --- ---\n",
            "C |   |   | O |   |   |\n",
            "   --- --- --- --- ---\n",
            "D | X | O |   |   |   |\n",
            "   --- --- --- --- ---\n",
            "E |   |   |   |   |   |\n",
            "   --- --- --- --- ---\n",
            "Placed O at: E1\n",
            "    1   2   3   4   5  \n",
            "   --- --- --- --- ---\n",
            "A |   |   | O | X | X |\n",
            "   --- --- --- --- ---\n",
            "B |   |   | X | O | X |\n",
            "   --- --- --- --- ---\n",
            "C |   |   | O |   |   |\n",
            "   --- --- --- --- ---\n",
            "D | X | O |   |   |   |\n",
            "   --- --- --- --- ---\n",
            "E | O |   |   |   |   |\n",
            "   --- --- --- --- ---\n",
            "Placed X at: C1\n",
            "    1   2   3   4   5  \n",
            "   --- --- --- --- ---\n",
            "A |   |   | O | X | X |\n",
            "   --- --- --- --- ---\n",
            "B |   |   | X | O | X |\n",
            "   --- --- --- --- ---\n",
            "C | X |   | O |   |   |\n",
            "   --- --- --- --- ---\n",
            "D | X | O |   |   |   |\n",
            "   --- --- --- --- ---\n",
            "E | O |   |   |   |   |\n",
            "   --- --- --- --- ---\n",
            "Placed O at: C2\n",
            "    1   2   3   4   5  \n",
            "   --- --- --- --- ---\n",
            "A |   |   | O | X | X |\n",
            "   --- --- --- --- ---\n",
            "B |   |   | X | O | X |\n",
            "   --- --- --- --- ---\n",
            "C | X | O | O |   |   |\n",
            "   --- --- --- --- ---\n",
            "D | X | O |   |   |   |\n",
            "   --- --- --- --- ---\n",
            "E | O |   |   |   |   |\n",
            "   --- --- --- --- ---\n",
            "Placed X at: E2\n",
            "    1   2   3   4   5  \n",
            "   --- --- --- --- ---\n",
            "A |   |   | O | X | X |\n",
            "   --- --- --- --- ---\n",
            "B |   |   | X | O | X |\n",
            "   --- --- --- --- ---\n",
            "C | X | O | O |   |   |\n",
            "   --- --- --- --- ---\n",
            "D | X | O |   |   |   |\n",
            "   --- --- --- --- ---\n",
            "E | O | X |   |   |   |\n",
            "   --- --- --- --- ---\n",
            "Placed O at: E4\n",
            "    1   2   3   4   5  \n",
            "   --- --- --- --- ---\n",
            "A |   |   | O | X | X |\n",
            "   --- --- --- --- ---\n",
            "B |   |   | X | O | X |\n",
            "   --- --- --- --- ---\n",
            "C | X | O | O |   |   |\n",
            "   --- --- --- --- ---\n",
            "D | X | O |   |   |   |\n",
            "   --- --- --- --- ---\n",
            "E | O | X |   | O |   |\n",
            "   --- --- --- --- ---\n",
            "Placed X at: C5\n",
            "    1   2   3   4   5  \n",
            "   --- --- --- --- ---\n",
            "A |   |   | O | X | X |\n",
            "   --- --- --- --- ---\n",
            "B |   |   | X | O | X |\n",
            "   --- --- --- --- ---\n",
            "C | X | O | O |   | X |\n",
            "   --- --- --- --- ---\n",
            "D | X | O |   |   |   |\n",
            "   --- --- --- --- ---\n",
            "E | O | X |   | O |   |\n",
            "   --- --- --- --- ---\n",
            "Placed O at: E5\n",
            "    1   2   3   4   5  \n",
            "   --- --- --- --- ---\n",
            "A |   |   | O | X | X |\n",
            "   --- --- --- --- ---\n",
            "B |   |   | X | O | X |\n",
            "   --- --- --- --- ---\n",
            "C | X | O | O |   | X |\n",
            "   --- --- --- --- ---\n",
            "D | X | O |   |   |   |\n",
            "   --- --- --- --- ---\n",
            "E | O | X |   | O | O |\n",
            "   --- --- --- --- ---\n",
            "Placed X at: E3\n",
            "    1   2   3   4   5  \n",
            "   --- --- --- --- ---\n",
            "A |   |   | O | X | X |\n",
            "   --- --- --- --- ---\n",
            "B |   |   | X | O | X |\n",
            "   --- --- --- --- ---\n",
            "C | X | O | O |   | X |\n",
            "   --- --- --- --- ---\n",
            "D | X | O |   |   |   |\n",
            "   --- --- --- --- ---\n",
            "E | O | X | X | O | O |\n",
            "   --- --- --- --- ---\n",
            "Placed O at: D3\n",
            "    1   2   3   4   5  \n",
            "   --- --- --- --- ---\n",
            "A |   |   | O | X | X |\n",
            "   --- --- --- --- ---\n",
            "B |   |   | X | O | X |\n",
            "   --- --- --- --- ---\n",
            "C | X | O | O |   | X |\n",
            "   --- --- --- --- ---\n",
            "D | X | O | O |   |   |\n",
            "   --- --- --- --- ---\n",
            "E | O | X | X | O | O |\n",
            "   --- --- --- --- ---\n",
            "Placed X at: A1\n",
            "    1   2   3   4   5  \n",
            "   --- --- --- --- ---\n",
            "A | X |   | O | X | X |\n",
            "   --- --- --- --- ---\n",
            "B |   |   | X | O | X |\n",
            "   --- --- --- --- ---\n",
            "C | X | O | O |   | X |\n",
            "   --- --- --- --- ---\n",
            "D | X | O | O |   |   |\n",
            "   --- --- --- --- ---\n",
            "E | O | X | X | O | O |\n",
            "   --- --- --- --- ---\n",
            "Placed O at: B2\n",
            "    1   2   3   4   5  \n",
            "   --- --- --- --- ---\n",
            "A | X |   | O | X | X |\n",
            "   --- --- --- --- ---\n",
            "B |   | O | X | O | X |\n",
            "   --- --- --- --- ---\n",
            "C | X | O | O |   | X |\n",
            "   --- --- --- --- ---\n",
            "D | X | O | O |   |   |\n",
            "   --- --- --- --- ---\n",
            "E | O | X | X | O | O |\n",
            "   --- --- --- --- ---\n",
            "Placed X at: A2\n",
            "    1   2   3   4   5  \n",
            "   --- --- --- --- ---\n",
            "A | X | X | O | X | X |\n",
            "   --- --- --- --- ---\n",
            "B |   | O | X | O | X |\n",
            "   --- --- --- --- ---\n",
            "C | X | O | O |   | X |\n",
            "   --- --- --- --- ---\n",
            "D | X | O | O |   |   |\n",
            "   --- --- --- --- ---\n",
            "E | O | X | X | O | O |\n",
            "   --- --- --- --- ---\n",
            "Placed O at: B1\n",
            "    1   2   3   4   5  \n",
            "   --- --- --- --- ---\n",
            "A | X | X | O | X | X |\n",
            "   --- --- --- --- ---\n",
            "B | O | O | X | O | X |\n",
            "   --- --- --- --- ---\n",
            "C | X | O | O |   | X |\n",
            "   --- --- --- --- ---\n",
            "D | X | O | O |   |   |\n",
            "   --- --- --- --- ---\n",
            "E | O | X | X | O | O |\n",
            "   --- --- --- --- ---\n",
            "Placed X at: C4\n",
            "    1   2   3   4   5  \n",
            "   --- --- --- --- ---\n",
            "A | X | X | O | X | X |\n",
            "   --- --- --- --- ---\n",
            "B | O | O | X | O | X |\n",
            "   --- --- --- --- ---\n",
            "C | X | O | O | X | X |\n",
            "   --- --- --- --- ---\n",
            "D | X | O | O |   |   |\n",
            "   --- --- --- --- ---\n",
            "E | O | X | X | O | O |\n",
            "   --- --- --- --- ---\n",
            "Placed O at: D5\n",
            "    1   2   3   4   5  \n",
            "   --- --- --- --- ---\n",
            "A | X | X | O | X | X |\n",
            "   --- --- --- --- ---\n",
            "B | O | O | X | O | X |\n",
            "   --- --- --- --- ---\n",
            "C | X | O | O | X | X |\n",
            "   --- --- --- --- ---\n",
            "D | X | O | O |   | O |\n",
            "   --- --- --- --- ---\n",
            "E | O | X | X | O | O |\n",
            "   --- --- --- --- ---\n",
            "Placed X at: D4\n",
            "    1   2   3   4   5  \n",
            "   --- --- --- --- ---\n",
            "A | X | X | O | X | X |\n",
            "   --- --- --- --- ---\n",
            "B | O | O | X | O | X |\n",
            "   --- --- --- --- ---\n",
            "C | X | O | O | X | X |\n",
            "   --- --- --- --- ---\n",
            "D | X | O | O | X | O |\n",
            "   --- --- --- --- ---\n",
            "E | O | X | X | O | O |\n",
            "   --- --- --- --- ---\n",
            "It's a draw!\n"
          ],
          "name": "stdout"
        }
      ]
    },
    {
      "cell_type": "markdown",
      "metadata": {
        "id": "6W-bTUC9l6y8"
      },
      "source": [
        "*Exercise 11: (Extra Credit)* Develop a version of the game where one player is the computer. Note that you don't need to do an extensive seach for the best move. You can have the computer simply protect against loosing and otherwise try to win with straight or diagonal patterns."
      ]
    },
    {
      "cell_type": "code",
      "metadata": {
        "id": "EdxBYXsLl6zD"
      },
      "source": [
        "# Test your solution here"
      ],
      "execution_count": null,
      "outputs": []
    }
  ]
}