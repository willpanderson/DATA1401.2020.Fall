{
 "cells": [
  {
   "cell_type": "markdown",
   "metadata": {
    "colab_type": "text",
    "id": "uk7yc0nadBGa"
   },
   "source": [
    "# Lab 2\n",
    "\n",
    "[![Open In Colab](https://colab.research.google.com/assets/colab-badge.svg)](https://github.com/UTA-DataScience/DATA1401.2020.Fall/blob/master/Labs/Lab.2/Lab.2.ipynb)\n",
    "\n",
    "\n"
   ]
  },
  {
   "cell_type": "markdown",
   "metadata": {
    "colab_type": "text",
    "id": "u9RAhs5b4vXY"
   },
   "source": [
    "\n",
    "## Make your fork private\n",
    "\n",
    "Navigate your fork of the course repository on GitHub and click the \"gear\" icon to change the settings. Select \"Options\" on the left and scroll all the way down. Then click on \"Make Private\" to make your repository private. \n",
    "\n",
    "Next select the collaborators on the left and add your Professor as a collaborator. "
   ]
  },
  {
   "cell_type": "markdown",
   "metadata": {
    "colab_type": "text",
    "id": "q-gMWiE4dBG_"
   },
   "source": [
    "## Python Programming\n",
    "\n",
    "In the remainder of this lab you will practice python by solving some simple exercises. \n",
    "\n",
    "*Exercise 1:* Write 2 functions `even(x)` and `odd(x)` that take an integer and returns True if the input is even or odd, otherwise returns False. Use cell below for your solution. Use the subsequent cell to demonstrate that your solution works. Feel free to add additional cell as needed using the \"+\" button on the button bar above. "
   ]
  },
  {
   "cell_type": "code",
   "execution_count": 1,
   "metadata": {
    "colab": {},
    "colab_type": "code",
    "id": "jwN5jff1dBG_"
   },
   "outputs": [],
   "source": [
    "# Write you solution here\n",
    "\n",
    "def even(num):\n",
    "  if num%2==0:\n",
    "    return True\n",
    "  else:\n",
    "    return False\n",
    "\n",
    "def odd(num):\n",
    "  return num%2==1\n",
    "  "
   ]
  },
  {
   "cell_type": "code",
   "execution_count": 2,
   "metadata": {
    "colab": {
     "base_uri": "https://localhost:8080/",
     "height": 85
    },
    "colab_type": "code",
    "id": "xNJAcodhdBHB",
    "outputId": "9c73ba8c-b59e-427c-8ab9-a7ea4f8da1b8"
   },
   "outputs": [
    {
     "name": "stdout",
     "output_type": "stream",
     "text": [
      "Even Test, even Input: True\n",
      "Even Test, odd Input: False\n",
      "Odd Test, even Input: False\n",
      "Odd Test, odd Input: False\n"
     ]
    }
   ],
   "source": [
    "# Test your solution here\n",
    "print(\"Even Test, even Input:\",even(2))\n",
    "print(\"Even Test, odd Input:\",even(221))\n",
    "print(\"Odd Test, even Input:\",odd(2))\n",
    "print(\"Odd Test, odd Input:\",odd(2))\n"
   ]
  },
  {
   "cell_type": "markdown",
   "metadata": {
    "colab_type": "text",
    "id": "KL_pyzG8dBHD"
   },
   "source": [
    "*Exercise 2:* Write a function that takes a list of numbers as input and returns a list of the subset of elements that are less that 10. Test your solution."
   ]
  },
  {
   "cell_type": "code",
   "execution_count": 3,
   "metadata": {
    "colab": {},
    "colab_type": "code",
    "id": "g8nt0wnldBHE"
   },
   "outputs": [],
   "source": [
    "# Write you solution here\n",
    "\n",
    "def less_than_ten(lst):\n",
    "  out_lst=list()\n",
    "  for element in lst:\n",
    "    if element < 10:\n",
    "      out_lst.append(element)\n",
    "  return out_lst\n",
    "\n",
    "\n"
   ]
  },
  {
   "cell_type": "code",
   "execution_count": 4,
   "metadata": {
    "colab": {
     "base_uri": "https://localhost:8080/",
     "height": 34
    },
    "colab_type": "code",
    "id": "__HTUWA1dBHH",
    "outputId": "80421293-b256-4f7b-977e-6a2f1625b229"
   },
   "outputs": [
    {
     "data": {
      "text/plain": [
       "[1, 2, 4, 6, 8]"
      ]
     },
     "execution_count": 4,
     "metadata": {},
     "output_type": "execute_result"
    }
   ],
   "source": [
    "# Test your solution here\n",
    "\n",
    "less_than_ten([1,2,4,456,6,77,8,78])\n"
   ]
  },
  {
   "cell_type": "markdown",
   "metadata": {
    "colab_type": "text",
    "id": "T0cx91JudBHK"
   },
   "source": [
    "*Exercise 3:* Write a function that takes a number `x_max` as input and returns a function that performs the same task as exercise 2, but for `x_max` instead of 10."
   ]
  },
  {
   "cell_type": "code",
   "execution_count": 5,
   "metadata": {
    "colab": {},
    "colab_type": "code",
    "id": "PqummMcmdBHK"
   },
   "outputs": [],
   "source": [
    "# Write you solution here\n",
    "\n",
    "def less_than_x_max(x_max,lst):\n",
    "  out_lst=list()\n",
    "  for element in lst:\n",
    "    if element < x_max:\n",
    "      out_lst.append(element)\n",
    "  return out_lst\n"
   ]
  },
  {
   "cell_type": "code",
   "execution_count": 6,
   "metadata": {
    "colab": {
     "base_uri": "https://localhost:8080/",
     "height": 34
    },
    "colab_type": "code",
    "id": "evRYemjXdBHN",
    "outputId": "47cfe2ae-4652-42cd-c972-b07d2a520f22"
   },
   "outputs": [
    {
     "data": {
      "text/plain": [
       "[1, 2, 4, 6, 77, 8, 78]"
      ]
     },
     "execution_count": 6,
     "metadata": {},
     "output_type": "execute_result"
    }
   ],
   "source": [
    "# Test your solution here\n",
    "\n",
    "less_than_x_max(79,[1,2,4,456,6,77,8,78])"
   ]
  },
  {
   "cell_type": "markdown",
   "metadata": {
    "colab_type": "text",
    "id": "h0I8M27LdBHP"
   },
   "source": [
    "*Exercise 4:* Write a function that takes an interger as input and returns a list of all divisors of that number."
   ]
  },
  {
   "cell_type": "code",
   "execution_count": 7,
   "metadata": {
    "colab": {},
    "colab_type": "code",
    "id": "k6GUpDyrdBHP"
   },
   "outputs": [],
   "source": [
    "# Write you solution here\n",
    "\n",
    "def all_divisors(number):\n",
    "  out_lst=list()\n",
    "  for i in range(1,number+1):\n",
    "    if number%i == 0:\n",
    "      out_lst.append(i);\n",
    "  return out_lst\n"
   ]
  },
  {
   "cell_type": "code",
   "execution_count": 8,
   "metadata": {
    "colab": {
     "base_uri": "https://localhost:8080/",
     "height": 85
    },
    "colab_type": "code",
    "id": "YDvRmft-dBHR",
    "outputId": "934f5986-cc16-457f-ccd9-a9fecf575d29"
   },
   "outputs": [
    {
     "name": "stdout",
     "output_type": "stream",
     "text": [
      "All divisors of 21: [1, 3, 7, 21]\n",
      "All divisors of 12: [1, 2, 3, 4, 6, 12]\n",
      "All divisors of 1: [1]\n",
      "All divisors of 0: []\n"
     ]
    }
   ],
   "source": [
    "# Test your solution here\n",
    "\n",
    "print(\"All divisors of 21:\",all_divisors(21))\n",
    "print(\"All divisors of 12:\",all_divisors(12))\n",
    "print(\"All divisors of 1:\",all_divisors(1))\n",
    "print(\"All divisors of 0:\",all_divisors(0))"
   ]
  },
  {
   "cell_type": "markdown",
   "metadata": {
    "colab_type": "text",
    "id": "IOWnLMvxdBHT"
   },
   "source": [
    "*Exercise 5:* Write a function that takes 2 lists as input and returns a list that contains only the elements that are common between the lists (without duplicates). Make sure your program works on two lists of different sizes."
   ]
  },
  {
   "cell_type": "code",
   "execution_count": 9,
   "metadata": {
    "colab": {},
    "colab_type": "code",
    "id": "tR31bnTDdBHT"
   },
   "outputs": [],
   "source": [
    "# Write you solution here\n",
    "\n",
    "def dupilcate_elements(lst_a,lst_b):\n",
    "  out_list = list()\n",
    "  for element_a in lst_a:\n",
    "    for element_b in lst_b:\n",
    "      if element_a == element_b:\n",
    "        out_list.append(element_a)\n",
    "  return out_list\n"
   ]
  },
  {
   "cell_type": "code",
   "execution_count": 10,
   "metadata": {
    "colab": {
     "base_uri": "https://localhost:8080/",
     "height": 51
    },
    "colab_type": "code",
    "id": "IJDf6ebYdBHV",
    "outputId": "c0b153d6-957b-4268-f81e-2344053c5387"
   },
   "outputs": [
    {
     "name": "stdout",
     "output_type": "stream",
     "text": [
      "Duplicate elements in a set with four common elements and two sets of diffrent sizes: [1, 25, 16, 12]\n",
      "Duplicate elements in a set with no common elements and two sets of diffrent sizes: []\n"
     ]
    }
   ],
   "source": [
    "# Test your solution here\n",
    "\n",
    "print(\"Duplicate elements in a set with four common elements and two sets of diffrent sizes:\",dupilcate_elements([1,25,16,47,12,7],[1,12,25,16,4]))\n",
    "print(\"Duplicate elements in a set with no common elements and two sets of diffrent sizes:\",dupilcate_elements([41,245,142,146,47,7],[1,12,25,16,44]))"
   ]
  },
  {
   "cell_type": "markdown",
   "metadata": {
    "colab_type": "text",
    "id": "3vA7M9pldBHX"
   },
   "source": [
    "*Exercise 6:* Write a function that reads takes a string and returns `True` if the string is a palindrome. (A palindrome is a string that reads the same forwards and backwards.)"
   ]
  },
  {
   "cell_type": "code",
   "execution_count": 11,
   "metadata": {
    "colab": {},
    "colab_type": "code",
    "id": "ncyMDzp6dBHX"
   },
   "outputs": [],
   "source": [
    "# Write you solution here\n",
    "\n",
    "def isPalindrome(str):\n",
    "    for i in range(0, int(len(str)/2)): \n",
    "        if str[i] != str[len(str)-i-1]:\n",
    "            return False\n",
    "    return True"
   ]
  },
  {
   "cell_type": "code",
   "execution_count": 12,
   "metadata": {
    "colab": {
     "base_uri": "https://localhost:8080/",
     "height": 51
    },
    "colab_type": "code",
    "id": "v5cmVQ6MdBHZ",
    "outputId": "1779e4ac-b20f-44e4-f4bd-21454d3eece5"
   },
   "outputs": [
    {
     "name": "stdout",
     "output_type": "stream",
     "text": [
      "Is the string 'anna' a palindrome? True\n",
      "Is the string '1212' a palindrome?  False\n"
     ]
    }
   ],
   "source": [
    "# Test your solution here\n",
    "\n",
    "print(\"Is the string 'anna' a palindrome?\",isPalindrome(\"anna\"))\n",
    "print(\"Is the string '1212' a palindrome? \",isPalindrome(\"1212\"))"
   ]
  },
  {
   "cell_type": "markdown",
   "metadata": {
    "colab_type": "text",
    "id": "fT35xwandBHc"
   },
   "source": [
    "*Exercise 7:* Write a Rock-Paper-Scissors game function, that takes 2 strings, the inputs of player 1 and player 2, and output 1 or 2 corresponding to which player wins, or 0 if draw.\n",
    "\n",
    "Implement a Rock-Paper-Scissors game by soliciting input from 2 players, testing with this function, and repeating if there is a draw.\n",
    "\n",
    "Remember the rules:\n",
    "\n",
    "* Rock beats scissors\n",
    "* Scissors beats paper\n",
    "* Paper beats rock"
   ]
  },
  {
   "cell_type": "code",
   "execution_count": 13,
   "metadata": {
    "colab": {},
    "colab_type": "code",
    "id": "U1_HxxaWdBHd"
   },
   "outputs": [],
   "source": [
    "# Write you solution here\n",
    "\n",
    "def rock_paper_scissors(input1,input2):\n",
    "  if input1 == input2:\n",
    "    return 0\n",
    "  elif input1 == \"rock\" and input2 == \"scissors\" or input1 == \"paper\" and input2 == \"rock\" or input1 == \"scissors\" and input2 == \"paper\":\n",
    "    return 1\n",
    "  else:\n",
    "    return 2\n",
    "  "
   ]
  },
  {
   "cell_type": "code",
   "execution_count": 14,
   "metadata": {
    "colab": {
     "base_uri": "https://localhost:8080/",
     "height": 170
    },
    "colab_type": "code",
    "id": "ooR2ldZBdBHf",
    "outputId": "8babb1f2-aacd-4f42-a6e4-6e43d141500d"
   },
   "outputs": [
    {
     "name": "stdout",
     "output_type": "stream",
     "text": [
      "Test Scissors vs Scissors:  0\n",
      "Test Paper vs Paper:  0\n",
      "Test Rock vs Rock:  0\n",
      "Test Rock vs Scissors:  1\n",
      "Test Scissors vs Paper:  1\n",
      "Test Paper vs Rock:  1\n",
      "Test Scissors vs Rock:  2\n",
      "Test Paper vs Scissors :  2\n",
      "Test Rock vs Paper :  2\n"
     ]
    }
   ],
   "source": [
    "# Test your solution here\n",
    "\n",
    "print(\"Test Scissors vs Scissors: \",rock_paper_scissors(\"scissors\",\"scissors\"))\n",
    "print(\"Test Paper vs Paper: \",rock_paper_scissors(\"paper\",\"paper\"))\n",
    "print(\"Test Rock vs Rock: \",rock_paper_scissors(\"rock\",\"rock\"))\n",
    "print(\"Test Rock vs Scissors: \",rock_paper_scissors(\"rock\",\"scissors\"))\n",
    "print(\"Test Scissors vs Paper: \",rock_paper_scissors(\"scissors\",\"paper\"))\n",
    "print(\"Test Paper vs Rock: \",rock_paper_scissors(\"paper\",\"rock\"))\n",
    "print(\"Test Scissors vs Rock: \",rock_paper_scissors(\"scissors\",\"rock\"))\n",
    "print(\"Test Paper vs Scissors : \",rock_paper_scissors(\"paper\",\"scissors\"))\n",
    "print(\"Test Rock vs Paper : \",rock_paper_scissors(\"rock\",\"paper\"))\n",
    "\n",
    "\n"
   ]
  },
  {
   "cell_type": "markdown",
   "metadata": {
    "colab_type": "text",
    "id": "dJQzXNKzdBHh"
   },
   "source": [
    "*Exercise 8:* Write a function that takes a integer `n` as input and \n",
    "outputs a list of the first `n` Fibonnaci numbers.\n",
    "\n",
    "The Fibonnaci seqence is a sequence of numbers where the next number in the sequence is the sum of the previous two numbers in the sequence. The sequence looks like this: 1, 1, 2, 3, 5, 8, 13, …)"
   ]
  },
  {
   "cell_type": "code",
   "execution_count": 15,
   "metadata": {
    "colab": {},
    "colab_type": "code",
    "id": "G_4ooRXTdBHh"
   },
   "outputs": [],
   "source": [
    "# Write you solution here\n",
    "\n",
    "def fibonacci(num):\n",
    "    num1 = 0\n",
    "    num2 = 1\n",
    "    index = 0\n",
    "    out_list = list()\n",
    "    for i in range(num):\n",
    "        out_list.append(index)\n",
    "        num1 = num2;\n",
    "        num2 = index;\n",
    "        index = num1 + num2\n",
    "    return out_list"
   ]
  },
  {
   "cell_type": "code",
   "execution_count": 16,
   "metadata": {
    "colab": {
     "base_uri": "https://localhost:8080/",
     "height": 340
    },
    "colab_type": "code",
    "id": "rzK5FskJdBHj",
    "outputId": "3c7f6323-0095-4cdb-eb9f-8c0510ac0b80"
   },
   "outputs": [
    {
     "name": "stdout",
     "output_type": "stream",
     "text": [
      "[0]\n",
      "[0, 1]\n",
      "[0, 1, 1]\n",
      "[0, 1, 1, 2]\n",
      "[0, 1, 1, 2, 3]\n",
      "[0, 1, 1, 2, 3, 5]\n",
      "[0, 1, 1, 2, 3, 5, 8]\n",
      "[0, 1, 1, 2, 3, 5, 8, 13]\n",
      "[0, 1, 1, 2, 3, 5, 8, 13, 21]\n",
      "[0, 1, 1, 2, 3, 5, 8, 13, 21, 34]\n",
      "[0, 1, 1, 2, 3, 5, 8, 13, 21, 34, 55]\n",
      "[0, 1, 1, 2, 3, 5, 8, 13, 21, 34, 55, 89]\n",
      "[0, 1, 1, 2, 3, 5, 8, 13, 21, 34, 55, 89, 144]\n",
      "[0, 1, 1, 2, 3, 5, 8, 13, 21, 34, 55, 89, 144, 233]\n",
      "[0, 1, 1, 2, 3, 5, 8, 13, 21, 34, 55, 89, 144, 233, 377]\n",
      "[0, 1, 1, 2, 3, 5, 8, 13, 21, 34, 55, 89, 144, 233, 377, 610]\n",
      "[0, 1, 1, 2, 3, 5, 8, 13, 21, 34, 55, 89, 144, 233, 377, 610, 987]\n",
      "[0, 1, 1, 2, 3, 5, 8, 13, 21, 34, 55, 89, 144, 233, 377, 610, 987, 1597]\n",
      "[0, 1, 1, 2, 3, 5, 8, 13, 21, 34, 55, 89, 144, 233, 377, 610, 987, 1597, 2584]\n"
     ]
    }
   ],
   "source": [
    "# Test your solution here\n",
    "\n",
    "for i in range(1,20):\n",
    "  print(fibonacci(i))\n"
   ]
  },
  {
   "cell_type": "markdown",
   "metadata": {
    "colab_type": "text",
    "id": "q6c_AskadBHl"
   },
   "source": [
    "*Exercise 9:* Write a function that takes a string of consisting of several words and returns a string that reverses the order of the words.\n"
   ]
  },
  {
   "cell_type": "code",
   "execution_count": 17,
   "metadata": {
    "colab": {},
    "colab_type": "code",
    "id": "aJdXX6FHdBHl"
   },
   "outputs": [],
   "source": [
    "# Write you solution here\n",
    "def reverse_string(str): \n",
    "   return str[::-1]"
   ]
  },
  {
   "cell_type": "code",
   "execution_count": 18,
   "metadata": {
    "colab": {
     "base_uri": "https://localhost:8080/",
     "height": 35
    },
    "colab_type": "code",
    "id": "nQyhnLZ_dBHn",
    "outputId": "37f89cfc-ebfa-422b-f949-4809fb319bf4"
   },
   "outputs": [
    {
     "data": {
      "text/plain": [
       "'0987654321 god yzal eht revo spmuj xof nworb kciuq ehT'"
      ]
     },
     "execution_count": 18,
     "metadata": {},
     "output_type": "execute_result"
    }
   ],
   "source": [
    "# Test your solution here\n",
    "reverse_string(\"The quick brown fox jumps over the lazy dog 1234567890\")"
   ]
  },
  {
   "cell_type": "markdown",
   "metadata": {
    "colab_type": "text",
    "id": "NFSmRaSydBHq"
   },
   "source": [
    "*Exercise 10:* Write a guessing game program that will repeatedly guess a number that the users picks, with the user indicating higher or lower, until it correctly guesses the number."
   ]
  },
  {
   "cell_type": "code",
   "execution_count": null,
   "metadata": {
    "colab": {
     "base_uri": "https://localhost:8080/",
     "height": 68
    },
    "colab_type": "code",
    "id": "Ie2E1JzCdBHr",
    "outputId": "583fda08-0697-4c33-f616-2dccf56c86f3"
   },
   "outputs": [],
   "source": [
    "# Write you solution here\n",
    "\n",
    "import random as rand\n",
    "\n",
    "def guess_a_number(n,str):\n",
    "\n",
    "  while str != \"correct\":\n",
    "    if str == 'higher':\n",
    "      x =rand.randint(n,100)\n",
    "      print(x)\n",
    "      str = input(\"Enter 'correct' or 'higher' or 'lower':\")\n",
    "    elif str == 'lower':\n",
    "      z = rand.randint(0,n)\n",
    "      print(z)\n",
    "      str = input(\"Enter 'correct' or 'higher' or 'lower':\")\n",
    "    else:\n",
    "        print(\"INVALID RESPONSE\")\n",
    "        \n",
    "def main():\n",
    "  print(\"Hello, Welcome to Guess-A-Number\")\n",
    "  n = rand.randint(0,100)\n",
    "  print(n)\n",
    "  str = input(\"Enter 'correct' or 'higher' or 'lower':\")\n",
    "  guess_a_number(n,str)\n",
    "\n",
    "if __name__ == \"__main__\":\n",
    "  main()"
   ]
  },
  {
   "cell_type": "code",
   "execution_count": null,
   "metadata": {
    "colab": {
     "base_uri": "https://localhost:8080/",
     "height": 170
    },
    "colab_type": "code",
    "id": "6T8YdWSMdBHs",
    "outputId": "3562e54a-8b9e-492a-e499-f52ba691c06a"
   },
   "outputs": [],
   "source": [
    "# Test your solution here\n",
    "\n",
    "main()"
   ]
  },
  {
   "cell_type": "code",
   "execution_count": null,
   "metadata": {},
   "outputs": [],
   "source": []
  },
  {
   "cell_type": "code",
   "execution_count": null,
   "metadata": {},
   "outputs": [],
   "source": []
  }
 ],
 "metadata": {
  "colab": {
   "collapsed_sections": [],
   "name": "Lab-2-Solutions.ipynb",
   "provenance": []
  },
  "kernelspec": {
   "display_name": "Python 3",
   "language": "python",
   "name": "python3"
  },
  "language_info": {
   "codemirror_mode": {
    "name": "ipython",
    "version": 3
   },
   "file_extension": ".py",
   "mimetype": "text/x-python",
   "name": "python",
   "nbconvert_exporter": "python",
   "pygments_lexer": "ipython3",
   "version": "3.8.2"
  }
 },
 "nbformat": 4,
 "nbformat_minor": 1
}
