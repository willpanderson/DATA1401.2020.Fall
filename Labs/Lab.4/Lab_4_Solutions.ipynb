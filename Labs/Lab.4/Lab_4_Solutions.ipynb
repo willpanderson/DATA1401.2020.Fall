{
  "nbformat": 4,
  "nbformat_minor": 0,
  "metadata": {
    "kernelspec": {
      "display_name": "Python 3",
      "language": "python",
      "name": "python3"
    },
    "language_info": {
      "codemirror_mode": {
        "name": "ipython",
        "version": 3
      },
      "file_extension": ".py",
      "mimetype": "text/x-python",
      "name": "python",
      "nbconvert_exporter": "python",
      "pygments_lexer": "ipython3",
      "version": "3.8.0"
    },
    "colab": {
      "name": "Lab.4.Solutions.ipynb",
      "provenance": []
    }
  },
  "cells": [
    {
      "cell_type": "markdown",
      "metadata": {
        "id": "p3_5NK2JTtxl"
      },
      "source": [
        "## Lab 4\n",
        "\n",
        "[![Open In Colab](https://colab.research.google.com/assets/colab-badge.svg)](https://colab.research.google.com/github/UTA-DataScience/DATA1401.2020.Fall/blob/master/Labs/Lab.4/Lab.4.ipynb)\n",
        "\n",
        "In this lab we will become familiar with distributions, histograms, and functional programming. \n",
        "\n",
        "\n",
        "### Uniform Distribution\n",
        "Lets start with generating some fake random data. You can get a random number between 0 and 1 using the python random module as follow:"
      ]
    },
    {
      "cell_type": "code",
      "metadata": {
        "id": "pyA42dF0Ttxn",
        "outputId": "c6d3a918-3e69-4542-fecf-99fa26a11543",
        "colab": {
          "base_uri": "https://localhost:8080/",
          "height": 35
        }
      },
      "source": [
        "import random\n",
        "x=random.random()\n",
        "print(\"The Value of x is\", x)"
      ],
      "execution_count": null,
      "outputs": [
        {
          "output_type": "stream",
          "text": [
            "The Value of x is 0.3245679832060754\n"
          ],
          "name": "stdout"
        }
      ]
    },
    {
      "cell_type": "markdown",
      "metadata": {
        "id": "i4X1JYNwTtxw"
      },
      "source": [
        "Everytime you call random, you will get a new number.\n",
        "\n",
        "*Exercise 1:* Using random, write a function `generate_uniform(N, mymin, mymax)`, that returns a python list containing N random numbers between specified minimum and maximum value. Note that you may want to quickly work out on paper how to turn numbers between 0 and 1 to between other values. "
      ]
    },
    {
      "cell_type": "code",
      "metadata": {
        "id": "S5XfbyJcTtxz"
      },
      "source": [
        "# Skeleton\n",
        "def generate_uniform(N,x_min,x_max):\n",
        "    out = []\n",
        "  \n",
        "    for i in range(N): \n",
        "        out.append(random.randint(x_min, x_max))        \n",
        "\n",
        "    return out"
      ],
      "execution_count": null,
      "outputs": []
    },
    {
      "cell_type": "code",
      "metadata": {
        "id": "V1_hsC98Ttx8",
        "outputId": "1c59bdc5-5a9f-435a-80b4-17af636a0fa7",
        "colab": {
          "base_uri": "https://localhost:8080/",
          "height": 108
        }
      },
      "source": [
        "# Test your solution here\n",
        "data=generate_uniform(1000,-10,10)\n",
        "print (\"Data Type:\", type(data))\n",
        "print (\"Data Length:\", len(data))\n",
        "if len(data)>0: \n",
        "    print (\"Type of Data Contents:\", type(data[0]))\n",
        "    print (\"Data Minimum:\", min(data))\n",
        "    print (\"Data Maximum:\", max(data))"
      ],
      "execution_count": null,
      "outputs": [
        {
          "output_type": "stream",
          "text": [
            "Data Type: <class 'list'>\n",
            "Data Length: 1000\n",
            "Type of Data Contents: <class 'int'>\n",
            "Data Minimum: -10\n",
            "Data Maximum: 10\n"
          ],
          "name": "stdout"
        }
      ]
    },
    {
      "cell_type": "markdown",
      "metadata": {
        "id": "CGyumrziTtyD"
      },
      "source": [
        "*Exercise 2a:* \n",
        "Write a function that computes the mean of values in a list."
      ]
    },
    {
      "cell_type": "code",
      "metadata": {
        "id": "sShQIpDkTtyE"
      },
      "source": [
        "# Skeleton\n",
        "def mean(Data):\n",
        "    m=0\n",
        "    m= sum(Data, 0.0) / len(Data)         \n",
        "    return m"
      ],
      "execution_count": null,
      "outputs": []
    },
    {
      "cell_type": "code",
      "metadata": {
        "id": "uI7mRxrUTtyJ",
        "outputId": "cbeb9316-db83-4be0-a076-b1279543d3f6",
        "colab": {
          "base_uri": "https://localhost:8080/",
          "height": 53
        }
      },
      "source": [
        "# Test your solution here\n",
        "datatest = list(range(1,12))\n",
        "print (\"Mean of Data:\", mean(data))\n",
        "print (\"Mean of Data:\", mean(datatest))"
      ],
      "execution_count": null,
      "outputs": [
        {
          "output_type": "stream",
          "text": [
            "Mean of Data: -0.051\n",
            "Mean of Data: 6.0\n"
          ],
          "name": "stdout"
        }
      ]
    },
    {
      "cell_type": "markdown",
      "metadata": {
        "id": "goXQod32TtyQ"
      },
      "source": [
        "*Exercise 2b:* \n",
        "Write a function that computes the variance of values in a list."
      ]
    },
    {
      "cell_type": "code",
      "metadata": {
        "id": "4FbJ-9c5TtyQ"
      },
      "source": [
        "# Skeleton\n",
        "def variance(Data):\n",
        "    total = 0.0\n",
        "    for i in Data:\n",
        "        sum_total =(i - mean(Data))**2\n",
        "        total +=sum_total\n",
        "    m = total/(len(Data)-1)       \n",
        "\n",
        "    \n",
        "    return m"
      ],
      "execution_count": null,
      "outputs": []
    },
    {
      "cell_type": "code",
      "metadata": {
        "id": "tH0CFqQxTtyW",
        "outputId": "942e52e0-e44b-4e01-814f-59f6a11acae7",
        "colab": {
          "base_uri": "https://localhost:8080/",
          "height": 53
        }
      },
      "source": [
        "# Test your solution here\n",
        "resultstest = [-14.82381293, -0.21423477, -12.56067989, -14.6288903, -0.74632439,\n",
        "          0.53459287, -1.38069996, -1.617426122, -4.73220719, -0.24312097]\n",
        "print (\"Variance of Data:\", variance(data))\n",
        "print (\"Variance of Data:\", variance(resultstest))"
      ],
      "execution_count": null,
      "outputs": [
        {
          "output_type": "stream",
          "text": [
            "Variance of Data: 35.20560460460467\n",
            "Variance of Data: 40.5821601988737\n"
          ],
          "name": "stdout"
        }
      ]
    },
    {
      "cell_type": "markdown",
      "metadata": {
        "id": "w-itlgIjTtya"
      },
      "source": [
        "## Histogramming"
      ]
    },
    {
      "cell_type": "markdown",
      "metadata": {
        "id": "BK89tHmTTtyb"
      },
      "source": [
        "*Exercise 3:* Write a function that bins the data so that you can create a histogram. An example of how to implement histogramming is the following logic:\n",
        "\n",
        "* User inputs a list of values `x` and optionally `n_bins` which defaults to 10.\n",
        "* If not supplied, find the minimum and maximum (`x_min`,`x_max`) of the values in x.\n",
        "* Determine the bin size (`bin_size`) by dividing the range of the function by the number of bins.\n",
        "* Create an empty list of zeros of size `n_bins`, call it `hist`.\n",
        "* Loop over the values in `x`\n",
        "    * Loop over the values in `hist` with index `i`:\n",
        "        * If x is between `x_min+i*bin_size` and `x_min+(i+1)*bin_size`, increment `hist[i].` \n",
        "        * For efficiency, try to use continue to goto the next bin and data point.\n",
        "* Return `hist` and the list corresponding of the bin edges (i.e. of `x_min+i*bin_size`).    "
      ]
    },
    {
      "cell_type": "code",
      "metadata": {
        "id": "2MpqheQeTtyc"
      },
      "source": [
        "# Solution\n",
        "def histogram(x,n_bins=10,x_min=None,x_max=None):\n",
        "  ### BEGIN SOLUTION\n",
        "  x_min = min(x)\n",
        "  x_max = max(x)\n",
        "  bin_size = (x_max-x_min)/n_bins\n",
        "  hist= [0]*n_bins\n",
        "  bin_edges = list()\n",
        "  for edge in range(n_bins+1):\n",
        "      bin_edges.append(x_min+edge*bin_size)\n",
        "  for item in x:\n",
        "      for i in range(n_bins):\n",
        "          if x_min+i*bin_size <= item <= x_min+(i+1)*bin_size:\n",
        "              hist[i] +=1 \n",
        "  bin_edges = [round(x,2) for x in bin_edges]\n",
        "         \n",
        "    \n",
        "    ### END SOLUTION\n",
        "\n",
        "  return hist,bin_edges"
      ],
      "execution_count": null,
      "outputs": []
    },
    {
      "cell_type": "code",
      "metadata": {
        "id": "eJnL1bT7Ttyj",
        "outputId": "d61c1b13-fd36-4365-c0bb-bb2b21416482",
        "colab": {
          "base_uri": "https://localhost:8080/",
          "height": 55
        }
      },
      "source": [
        "# Test your solution here\n",
        "h,b=histogram(data,100)\n",
        "print(h)"
      ],
      "execution_count": null,
      "outputs": [
        {
          "output_type": "stream",
          "text": [
            "[39, 0, 0, 0, 40, 40, 0, 0, 0, 43, 43, 0, 0, 0, 54, 54, 0, 0, 0, 50, 50, 0, 0, 0, 56, 56, 0, 0, 0, 64, 64, 0, 0, 0, 45, 45, 0, 0, 0, 45, 45, 0, 0, 0, 42, 42, 0, 0, 0, 63, 63, 0, 0, 0, 47, 47, 0, 0, 0, 45, 45, 0, 0, 0, 49, 49, 0, 0, 0, 46, 46, 0, 0, 0, 44, 44, 0, 0, 0, 52, 52, 0, 0, 0, 35, 35, 0, 0, 0, 41, 41, 0, 0, 0, 49, 49, 0, 0, 0, 51]\n"
          ],
          "name": "stdout"
        }
      ]
    },
    {
      "cell_type": "markdown",
      "metadata": {
        "id": "yBRfaiIlTtyn"
      },
      "source": [
        "*Exercise 4:* Write a function that uses the histogram function in the previous exercise to create a text-based \"graph\". For example the output could look like the following:\n",
        "```\n",
        "[  0,  1] : ######\n",
        "[  1,  2] : #####\n",
        "[  2,  3] : ######\n",
        "[  3,  4] : ####\n",
        "[  4,  5] : ####\n",
        "[  5,  6] : ######\n",
        "[  6,  7] : #####\n",
        "[  7,  8] : ######\n",
        "[  8,  9] : ####\n",
        "[  9, 10] : #####\n",
        "```\n",
        "\n",
        "Where each line corresponds to a bin and the number of `#`'s are proportional to the value of the data in the bin. "
      ]
    },
    {
      "cell_type": "code",
      "metadata": {
        "id": "rIE6m-fTTtyo"
      },
      "source": [
        "# Solution\n",
        "def draw_histogram(x,n_bins,x_min=None,x_max=None,character=\"#\",max_character_per_line=20):\n",
        "    x_min = min(x)\n",
        "    x_max = max(x)\n",
        "    bin_size = (x_max-x_min)/n_bins\n",
        "    hist= [0]*n_bins\n",
        "    bin_edges = list()\n",
        "    for edge in range(n_bins+1):\n",
        "        bin_edges.append(x_min+edge*bin_size)\n",
        "    for item in x:\n",
        "        for i in range(n_bins):\n",
        "            if x_min+i*bin_size <= item <= x_min+(i+1)*bin_size:\n",
        "                hist[i] +=1 \n",
        "    bin_edges = [round(x,2) for x in bin_edges]       \n",
        "    for i, j in enumerate(hist):\n",
        "        print(f\"[ {bin_edges[i]} , {bin_edges[i+1]} ] : {int(hist[i])*character} \")\n",
        "    \n",
        "    return hist,bin_edges"
      ],
      "execution_count": null,
      "outputs": []
    },
    {
      "cell_type": "code",
      "metadata": {
        "id": "zK4ICmfYTtyt",
        "outputId": "8e8de665-2103-4e9d-dc87-780f3079fe53",
        "colab": {
          "base_uri": "https://localhost:8080/",
          "height": 380
        }
      },
      "source": [
        "# Test your solution here\n",
        "h,b=draw_histogram(data,20)"
      ],
      "execution_count": null,
      "outputs": [
        {
          "output_type": "stream",
          "text": [
            "[ -10.0 , -9.0 ] : ############################################################################### \n",
            "[ -9.0 , -8.0 ] : ################################################################################### \n",
            "[ -8.0 , -7.0 ] : ################################################################################################# \n",
            "[ -7.0 , -6.0 ] : ######################################################################################################## \n",
            "[ -6.0 , -5.0 ] : ########################################################################################################## \n",
            "[ -5.0 , -4.0 ] : ######################################################################################################################## \n",
            "[ -4.0 , -3.0 ] : ############################################################################################################# \n",
            "[ -3.0 , -2.0 ] : ########################################################################################## \n",
            "[ -2.0 , -1.0 ] : ####################################################################################### \n",
            "[ -1.0 , 0.0 ] : ######################################################################################################### \n",
            "[ 0.0 , 1.0 ] : ############################################################################################################## \n",
            "[ 1.0 , 2.0 ] : ############################################################################################ \n",
            "[ 2.0 , 3.0 ] : ############################################################################################## \n",
            "[ 3.0 , 4.0 ] : ############################################################################################### \n",
            "[ 4.0 , 5.0 ] : ########################################################################################## \n",
            "[ 5.0 , 6.0 ] : ################################################################################################ \n",
            "[ 6.0 , 7.0 ] : ####################################################################################### \n",
            "[ 7.0 , 8.0 ] : ############################################################################ \n",
            "[ 8.0 , 9.0 ] : ########################################################################################## \n",
            "[ 9.0 , 10.0 ] : #################################################################################################### \n"
          ],
          "name": "stdout"
        }
      ]
    },
    {
      "cell_type": "markdown",
      "metadata": {
        "id": "fj10qGwuTty0"
      },
      "source": [
        "## Functional Programming\n",
        "\n",
        "*Exercise 5:* Write a function the applies a booling function (that returns true/false) to every element in data, and return a list of indices of elements where the result was true. Use this function to find the indices of entries greater than 0.5. "
      ]
    },
    {
      "cell_type": "code",
      "metadata": {
        "id": "Ui7t1LG7Tty1"
      },
      "source": [
        "def where(mylist,myfunc):\n",
        "    out= []\n",
        "    \n",
        "    ### BEGIN SOLUTION\n",
        "\n",
        "    for i,val in enumerate(mylist):\n",
        "        if myfunc(val):\n",
        "            out.append(i)\n",
        "    \n",
        "    ### END SOLUTION\n",
        "    \n",
        "    return out"
      ],
      "execution_count": null,
      "outputs": []
    },
    {
      "cell_type": "code",
      "metadata": {
        "id": "3myixImITty5",
        "outputId": "d1cb7d4d-c47e-46fa-8357-6e8d5ed39257",
        "colab": {
          "base_uri": "https://localhost:8080/",
          "height": 35
        }
      },
      "source": [
        "# Test your solution here\n",
        "\n",
        "lst = [0.7,0.2,5,0.12,9,1.6,7,-0.7,0.5,0.6]\n",
        "where(lst,lambda x: x>0.5)"
      ],
      "execution_count": null,
      "outputs": [
        {
          "output_type": "execute_result",
          "data": {
            "text/plain": [
              "[0, 2, 4, 5, 6, 9]"
            ]
          },
          "metadata": {
            "tags": []
          },
          "execution_count": 35
        }
      ]
    },
    {
      "cell_type": "markdown",
      "metadata": {
        "id": "S-hHlBVsTty_"
      },
      "source": [
        "*Exercise 6:* The inrange(mymin,mymax) function below returns a function that tests if it's input is between the specified values. Write corresponding functions that test:\n",
        "* Even\n",
        "* Odd\n",
        "* Greater than\n",
        "* Less than\n",
        "* Equal\n",
        "* Divisible by"
      ]
    },
    {
      "cell_type": "code",
      "metadata": {
        "id": "blwWFIKTTtzB"
      },
      "source": [
        "def in_range(mymin,mymax):\n",
        "    def testrange(x):\n",
        "        return x<mymax and x>=mymin\n",
        "    return testrange\n"
      ],
      "execution_count": null,
      "outputs": []
    },
    {
      "cell_type": "code",
      "metadata": {
        "id": "x3gXDJJp9bBH",
        "outputId": "b37f163d-3f92-4f14-f9b8-7cab2c3c5006",
        "colab": {
          "base_uri": "https://localhost:8080/",
          "height": 53
        }
      },
      "source": [
        "F1=in_range(0,10)\n",
        "F2=in_range(10,20)\n",
        "\n",
        "print (F1(0), F1(1), F1(10), F1(15), F1(20))\n",
        "print (F2(0), F2(1), F2(10), F2(15), F2(20))\n"
      ],
      "execution_count": null,
      "outputs": [
        {
          "output_type": "stream",
          "text": [
            "True True False False False\n",
            "False False True True False\n"
          ],
          "name": "stdout"
        }
      ]
    },
    {
      "cell_type": "code",
      "metadata": {
        "id": "7jPFUBWWTtzF"
      },
      "source": [
        "def even(x):\n",
        "  return x%2==0\n",
        "\n",
        "def odd(x):\n",
        "  return x%2!=0\n",
        "\n",
        "def greater_than(x,y):\n",
        "  return x>y\n",
        "\n",
        "def less_than(x,y):\n",
        "  return x<y\n",
        "\n",
        "def equal(x,y):\n",
        "  return x==y\n",
        "\n",
        "def divisible_by(x,y):\n",
        "  return x%y==0       "
      ],
      "execution_count": null,
      "outputs": []
    },
    {
      "cell_type": "code",
      "metadata": {
        "id": "NZd0vvF_TtzR",
        "outputId": "a71c5270-6f78-4b78-c150-0c376faa0a6a",
        "colab": {
          "base_uri": "https://localhost:8080/",
          "height": 126
        }
      },
      "source": [
        "# Test your solution\n",
        "\n",
        "print (even(0), even(1), even(10), even(15), even(20))\n",
        "print (odd(0), odd(1), odd(10), odd(15), odd(20))\n",
        "print (greater_than(0,1), greater_than(1,-5), greater_than(10,0), greater_than(12,15), greater_than(20,20))\n",
        "print (less_than(0,1), less_than(1,-5), less_than(10,0), less_than(12,15), less_than(20,20))\n",
        "print (equal(0,1), equal(1,-5), equal(10,0), equal(12,15), equal(20,20))\n",
        "print (divisible_by(1,1), divisible_by(1,5), divisible_by(10,1), divisible_by(12,15), divisible_by(20,20))"
      ],
      "execution_count": null,
      "outputs": [
        {
          "output_type": "stream",
          "text": [
            "True False True False True\n",
            "False True False True False\n",
            "False True True False False\n",
            "True False False True False\n",
            "False False False False True\n",
            "True False True False True\n"
          ],
          "name": "stdout"
        }
      ]
    },
    {
      "cell_type": "markdown",
      "metadata": {
        "id": "M0lV3vjaTtzV"
      },
      "source": [
        "*Exercise 7:* Repeat the previous exercise using `lambda` and the built-in python functions sum and map instead of your solution above. "
      ]
    },
    {
      "cell_type": "code",
      "metadata": {
        "id": "61x57W7hTtzV"
      },
      "source": [
        "even =lambda x: x%2==0\n",
        "\n",
        "odd =lambda x: x%2!=0\n",
        "\n",
        "greater_than =lambda x,y: x>y\n",
        "\n",
        "less_than =lambda x,y: x<y\n",
        "\n",
        "equal =lambda x,y: x==y\n",
        "\n",
        "divisible_by =lambda x,y: x%y==0        \n",
        "    "
      ],
      "execution_count": null,
      "outputs": []
    },
    {
      "cell_type": "code",
      "metadata": {
        "id": "I1mXDVOh9fOa",
        "outputId": "d020d490-f9af-4203-b488-d4d25aef1e81",
        "colab": {
          "base_uri": "https://localhost:8080/",
          "height": 126
        }
      },
      "source": [
        "print (even(0), even(1), even(10), even(15), even(20))\n",
        "print (odd(0), odd(1), odd(10), odd(15), odd(20))\n",
        "print (greater_than(0,1), greater_than(1,-5), greater_than(10,0), greater_than(12,15), greater_than(20,20))\n",
        "print (less_than(0,1), less_than(1,-5), less_than(10,0), less_than(12,15), less_than(20,20))\n",
        "print (equal(0,1), equal(1,-5), equal(10,0), equal(12,15), equal(20,20))\n",
        "print (divisible_by(1,1), divisible_by(1,5), divisible_by(10,1), divisible_by(12,15), divisible_by(20,20))"
      ],
      "execution_count": null,
      "outputs": [
        {
          "output_type": "stream",
          "text": [
            "True False True False True\n",
            "False True False True False\n",
            "False True True False False\n",
            "True False False True False\n",
            "False False False False True\n",
            "True False True False True\n"
          ],
          "name": "stdout"
        }
      ]
    },
    {
      "cell_type": "markdown",
      "metadata": {
        "id": "18jxRCe7Ttza"
      },
      "source": [
        "## Monte Carlo\n",
        "\n",
        "*Exercise 7:* Write a \"generator\" function called `generate_function(func,x_min,x_max,N)`, that instead of generating a flat distribution, generates a distribution with functional form coded in `func`. Note that `func` will always be > 0.  \n",
        "\n",
        "Use the test function below and your histogramming functions above to demonstrate that your generator is working properly.\n",
        "\n",
        "Hint: A simple, but slow, solution is to a draw random number test_x within the specified range and another number p between the min and max of the function (which you will have to determine). If p<=function(test_x), then place test_x on the output. If not, repeat the process, drawing two new numbers. Repeat until you have the specified number of generated numbers, N. For this problem, it's OK to determine the min and max by numerically sampling the function.  "
      ]
    },
    {
      "cell_type": "code",
      "metadata": {
        "id": "1QWKtSlpTtza"
      },
      "source": [
        "def generate_function(func,x_min,x_max,N=1000):\n",
        "    out = list()\n",
        "    while True:\n",
        "      test_x = random.choice(range(x_min,x_max))\n",
        "      p = random.choice(range(x_min,x_max))\n",
        "      if p<= func(test_x):\n",
        "        out.append(test_x)\n",
        "        if len(out)==N:\n",
        "           break \n",
        "    return out\n",
        "\n",
        "# A test function\n",
        "def test_func(x,a=1,b=1):\n",
        "    return abs(a*x+b)\n",
        "\n"
      ],
      "execution_count": null,
      "outputs": []
    },
    {
      "cell_type": "code",
      "metadata": {
        "id": "bq-o2U-XTtzc",
        "outputId": "c8afc831-ec77-49f3-9376-73eb866d52a5",
        "colab": {
          "base_uri": "https://localhost:8080/",
          "height": 55
        }
      },
      "source": [
        "list1 =  generate_function(test_func,0,100,1000)\n",
        "print(list1)"
      ],
      "execution_count": null,
      "outputs": [
        {
          "output_type": "stream",
          "text": [
            "[98, 36, 95, 42, 45, 86, 25, 95, 68, 55, 86, 79, 92, 45, 99, 98, 68, 47, 42, 84, 11, 25, 93, 89, 93, 42, 84, 59, 80, 63, 51, 48, 93, 60, 95, 93, 63, 52, 91, 7, 36, 80, 92, 96, 95, 92, 63, 91, 66, 74, 52, 76, 17, 58, 72, 62, 93, 97, 69, 71, 36, 84, 87, 72, 92, 81, 49, 86, 78, 81, 59, 61, 60, 88, 48, 40, 79, 93, 63, 95, 16, 83, 87, 34, 51, 57, 81, 74, 44, 12, 63, 63, 19, 54, 50, 66, 99, 31, 24, 90, 25, 87, 96, 80, 91, 97, 79, 44, 80, 77, 73, 97, 20, 43, 40, 47, 70, 30, 11, 40, 96, 15, 96, 23, 53, 87, 70, 69, 99, 57, 45, 93, 44, 64, 27, 60, 46, 78, 33, 50, 65, 34, 54, 99, 49, 92, 81, 43, 86, 95, 71, 82, 83, 57, 95, 33, 29, 54, 60, 95, 86, 33, 82, 76, 77, 55, 72, 88, 43, 49, 42, 54, 98, 30, 4, 60, 49, 32, 63, 79, 54, 82, 63, 96, 97, 99, 70, 49, 86, 36, 65, 93, 16, 44, 41, 93, 32, 96, 63, 45, 38, 28, 70, 72, 52, 42, 21, 98, 61, 81, 27, 81, 56, 61, 91, 98, 80, 8, 62, 99, 86, 84, 78, 94, 84, 72, 91, 49, 39, 57, 27, 31, 21, 91, 73, 75, 79, 89, 97, 74, 15, 63, 42, 47, 25, 51, 3, 90, 89, 86, 96, 20, 42, 69, 31, 47, 40, 69, 98, 21, 53, 56, 60, 12, 14, 72, 25, 85, 52, 70, 68, 97, 73, 21, 31, 67, 42, 56, 47, 91, 31, 67, 74, 84, 43, 49, 78, 31, 72, 60, 9, 86, 62, 60, 33, 80, 85, 98, 90, 55, 36, 95, 91, 25, 88, 27, 9, 31, 90, 96, 68, 87, 98, 95, 84, 89, 48, 89, 92, 96, 32, 70, 96, 72, 18, 72, 99, 56, 75, 37, 65, 86, 92, 94, 83, 91, 60, 35, 87, 77, 94, 73, 95, 43, 10, 24, 23, 83, 67, 43, 61, 91, 79, 49, 52, 97, 43, 62, 34, 48, 58, 9, 96, 94, 54, 94, 70, 94, 80, 84, 55, 64, 64, 36, 92, 61, 88, 48, 99, 31, 83, 39, 32, 24, 54, 35, 41, 85, 67, 13, 56, 91, 69, 72, 47, 88, 71, 62, 56, 89, 69, 78, 98, 99, 92, 60, 94, 39, 41, 12, 62, 91, 91, 77, 53, 98, 75, 87, 44, 57, 99, 47, 69, 42, 46, 57, 85, 97, 89, 90, 54, 55, 19, 85, 78, 86, 84, 47, 63, 75, 77, 86, 45, 79, 72, 22, 24, 89, 54, 43, 38, 29, 33, 69, 81, 88, 30, 35, 45, 47, 43, 46, 53, 83, 56, 72, 99, 69, 93, 93, 62, 80, 55, 91, 83, 51, 80, 70, 55, 73, 70, 45, 83, 35, 46, 18, 33, 89, 79, 62, 77, 69, 90, 42, 88, 71, 60, 58, 37, 81, 77, 38, 99, 35, 73, 86, 96, 73, 71, 44, 25, 85, 59, 56, 54, 80, 86, 99, 98, 78, 89, 69, 74, 62, 56, 53, 35, 89, 53, 94, 80, 92, 98, 58, 70, 87, 85, 96, 98, 28, 68, 78, 67, 43, 60, 47, 81, 49, 14, 89, 84, 94, 96, 98, 92, 60, 41, 99, 78, 82, 87, 53, 19, 97, 52, 92, 98, 51, 15, 80, 83, 57, 84, 65, 74, 24, 97, 11, 33, 87, 46, 88, 80, 83, 79, 46, 37, 78, 52, 33, 99, 74, 82, 31, 64, 83, 80, 67, 92, 84, 64, 88, 77, 98, 77, 48, 47, 26, 95, 1, 66, 59, 48, 42, 27, 42, 85, 49, 59, 52, 12, 96, 14, 80, 74, 30, 58, 84, 51, 8, 99, 91, 91, 42, 90, 34, 86, 77, 96, 47, 85, 84, 53, 31, 68, 66, 88, 65, 39, 15, 42, 90, 76, 97, 90, 78, 52, 13, 79, 82, 68, 52, 87, 46, 44, 97, 28, 69, 86, 98, 81, 99, 38, 96, 27, 29, 21, 97, 90, 53, 61, 94, 30, 35, 81, 63, 90, 11, 53, 84, 98, 55, 87, 52, 75, 63, 91, 91, 54, 79, 73, 99, 65, 70, 96, 89, 90, 89, 74, 24, 51, 94, 40, 48, 91, 67, 60, 86, 83, 75, 69, 70, 49, 31, 71, 84, 86, 69, 36, 95, 50, 29, 22, 97, 63, 85, 94, 22, 82, 43, 90, 72, 63, 75, 69, 81, 96, 53, 78, 46, 17, 86, 27, 72, 51, 47, 36, 75, 32, 54, 76, 85, 78, 73, 47, 71, 77, 84, 36, 52, 36, 41, 91, 69, 86, 43, 57, 55, 63, 46, 42, 69, 36, 58, 66, 83, 80, 68, 54, 64, 60, 91, 97, 89, 51, 78, 37, 73, 74, 58, 97, 42, 53, 27, 35, 62, 42, 87, 69, 86, 46, 86, 79, 48, 36, 42, 94, 68, 85, 72, 47, 77, 66, 39, 89, 25, 77, 54, 48, 88, 63, 34, 85, 42, 58, 81, 23, 64, 36, 75, 86, 81, 96, 54, 50, 80, 92, 92, 97, 72, 64, 84, 83, 91, 64, 30, 73, 81, 20, 54, 98, 82, 49, 51, 92, 90, 78, 79, 14, 61, 71, 66, 93, 66, 67, 88, 63, 99, 63, 81, 37, 63, 80, 11, 85, 17, 57, 78, 74, 32, 45, 94, 61, 54, 99, 14, 33, 44, 2, 52, 16, 66, 95, 40, 92, 58, 80, 62, 27, 37, 54, 64, 86, 14, 82, 69, 59, 69, 33, 43, 62, 60, 94, 93, 72, 90, 68, 71, 5, 97, 74, 59, 57, 49, 67, 75, 72, 63, 74, 73, 65, 83, 72, 78, 63, 21, 67, 90, 52, 85, 66, 29, 39, 74, 61, 95, 97, 45, 77, 99, 84, 97, 49, 23, 58, 94, 64, 44, 55, 93, 75, 96, 16, 57, 71, 39, 48, 69, 78, 76, 50, 59, 74, 43, 5, 53, 80, 21, 54, 68, 67, 60, 84, 69, 84, 67, 61, 71, 17, 54]\n"
          ],
          "name": "stdout"
        }
      ]
    },
    {
      "cell_type": "markdown",
      "metadata": {
        "id": "wnwaoBpYTtzj"
      },
      "source": [
        "*Exercise 8:* Use your function to generate 1000 numbers that are normal distributed, using the `gaussian` function below. Confirm the mean and variance of the data is close to the mean and variance you specify when building the Gaussian. Histogram the data. "
      ]
    },
    {
      "cell_type": "code",
      "metadata": {
        "id": "qViK6f6CTtzj",
        "outputId": "f45824b4-e4b8-4c46-d1f7-5ddcdae272f8",
        "colab": {
          "base_uri": "https://localhost:8080/",
          "height": 92
        }
      },
      "source": [
        "import math\n",
        "\n",
        "def gaussian(mean, sigma):\n",
        "    def f(x):\n",
        "        return math.exp(-((x-mean)**2)/(2*sigma**2))/math.sqrt(math.pi*sigma)\n",
        "    return f\n",
        "\n",
        "# Example Instantiation\n",
        "g1=gaussian(0,1)\n",
        "gauss_list = generate_function(g1,0,100,1000)\n",
        "print(gauss_list)\n",
        "\n",
        "mean(gauss_list)\n",
        "print(mean(gauss_list))\n",
        "variance(gauss_list)\n",
        "print(variance(gauss_list))"
      ],
      "execution_count": null,
      "outputs": [
        {
          "output_type": "stream",
          "text": [
            "[66, 78, 27, 68, 88, 21, 10, 51, 41, 51, 25, 51, 9, 90, 32, 11, 10, 36, 36, 99, 20, 30, 48, 87, 57, 26, 45, 42, 59, 32, 41, 66, 57, 37, 87, 54, 9, 81, 72, 98, 37, 61, 70, 70, 99, 34, 88, 98, 49, 60, 66, 10, 20, 84, 86, 0, 43, 34, 24, 85, 59, 8, 64, 73, 8, 58, 9, 13, 52, 71, 57, 39, 91, 66, 26, 57, 23, 99, 98, 97, 7, 7, 50, 60, 47, 53, 88, 82, 26, 73, 1, 51, 66, 77, 61, 55, 92, 9, 37, 93, 90, 89, 91, 76, 22, 34, 32, 54, 54, 66, 24, 28, 93, 4, 24, 40, 65, 92, 94, 64, 28, 2, 28, 86, 78, 44, 77, 88, 53, 51, 63, 90, 85, 32, 19, 37, 75, 64, 53, 44, 35, 74, 61, 74, 12, 75, 54, 4, 60, 73, 67, 80, 37, 87, 63, 42, 0, 70, 11, 40, 69, 75, 74, 11, 1, 78, 49, 2, 36, 9, 33, 60, 68, 40, 19, 32, 39, 12, 40, 2, 21, 39, 19, 57, 65, 94, 59, 23, 0, 16, 75, 72, 42, 5, 59, 65, 79, 36, 11, 68, 37, 76, 50, 4, 22, 44, 45, 10, 37, 57, 98, 76, 50, 57, 56, 82, 16, 66, 48, 12, 15, 79, 75, 47, 36, 27, 78, 5, 20, 53, 42, 52, 58, 2, 21, 85, 18, 50, 12, 90, 39, 67, 4, 5, 87, 39, 52, 32, 72, 86, 85, 71, 89, 77, 33, 8, 7, 66, 97, 10, 6, 42, 16, 19, 88, 47, 24, 81, 7, 8, 53, 53, 98, 47, 77, 36, 54, 11, 94, 90, 42, 44, 80, 39, 26, 29, 98, 86, 74, 56, 13, 31, 64, 64, 32, 71, 78, 96, 35, 98, 71, 98, 4, 79, 59, 92, 19, 70, 96, 45, 95, 87, 30, 57, 64, 23, 61, 76, 78, 85, 25, 85, 36, 72, 29, 96, 45, 19, 56, 36, 98, 29, 40, 44, 93, 29, 45, 26, 98, 38, 24, 36, 36, 20, 52, 0, 64, 80, 29, 54, 76, 36, 57, 91, 50, 96, 48, 5, 69, 86, 25, 2, 52, 31, 71, 49, 42, 17, 80, 54, 65, 53, 98, 36, 72, 33, 52, 55, 16, 10, 66, 82, 82, 15, 48, 33, 51, 9, 85, 40, 47, 1, 95, 67, 42, 5, 77, 5, 2, 42, 80, 14, 42, 92, 15, 55, 18, 92, 83, 19, 82, 46, 11, 11, 86, 18, 29, 18, 61, 53, 83, 83, 96, 56, 74, 53, 40, 29, 25, 27, 12, 87, 95, 35, 59, 59, 6, 45, 39, 3, 78, 94, 37, 46, 52, 90, 23, 44, 78, 73, 94, 70, 54, 70, 71, 90, 77, 47, 15, 25, 14, 28, 14, 84, 31, 28, 75, 15, 32, 25, 47, 17, 46, 87, 89, 6, 54, 92, 36, 2, 64, 86, 77, 6, 20, 57, 29, 50, 87, 56, 14, 7, 22, 28, 95, 63, 83, 51, 2, 63, 39, 58, 34, 53, 25, 79, 46, 95, 43, 75, 22, 41, 82, 77, 20, 38, 67, 51, 94, 97, 18, 33, 20, 5, 80, 20, 19, 91, 85, 38, 72, 37, 83, 47, 59, 47, 63, 35, 12, 27, 48, 79, 90, 80, 46, 7, 58, 71, 15, 95, 8, 32, 64, 78, 2, 15, 38, 36, 58, 44, 18, 67, 84, 34, 9, 2, 68, 86, 11, 46, 11, 49, 57, 66, 33, 87, 9, 94, 28, 22, 1, 11, 62, 29, 19, 8, 53, 90, 48, 81, 57, 42, 40, 89, 18, 87, 42, 10, 58, 48, 42, 81, 65, 12, 36, 78, 14, 92, 78, 1, 74, 80, 76, 81, 67, 65, 12, 2, 95, 40, 81, 0, 49, 76, 78, 0, 1, 35, 9, 43, 25, 93, 6, 89, 32, 96, 57, 68, 75, 55, 23, 55, 88, 99, 19, 4, 14, 13, 92, 93, 12, 4, 97, 2, 23, 53, 23, 26, 79, 51, 61, 81, 90, 75, 48, 83, 81, 4, 35, 2, 79, 31, 16, 93, 48, 10, 31, 42, 97, 80, 35, 16, 12, 22, 33, 61, 78, 79, 29, 64, 20, 22, 52, 70, 82, 14, 84, 33, 3, 5, 50, 87, 43, 45, 86, 63, 24, 90, 85, 89, 18, 61, 49, 59, 95, 4, 70, 2, 59, 5, 36, 38, 56, 56, 72, 0, 42, 4, 0, 4, 52, 7, 60, 73, 46, 16, 84, 68, 99, 47, 87, 36, 69, 7, 4, 58, 66, 58, 59, 50, 20, 82, 51, 92, 67, 25, 63, 89, 6, 51, 42, 26, 57, 9, 44, 96, 42, 98, 55, 23, 45, 51, 79, 5, 2, 11, 17, 32, 50, 61, 15, 26, 7, 54, 67, 28, 10, 66, 84, 18, 84, 44, 5, 97, 93, 35, 2, 0, 9, 92, 39, 35, 58, 56, 48, 66, 32, 34, 6, 22, 52, 14, 20, 7, 19, 20, 25, 99, 86, 60, 69, 43, 61, 74, 91, 57, 8, 20, 42, 30, 5, 76, 51, 68, 77, 6, 59, 57, 6, 7, 98, 89, 82, 96, 1, 78, 27, 45, 89, 95, 64, 67, 33, 31, 46, 20, 33, 17, 62, 60, 13, 6, 8, 71, 74, 17, 52, 13, 71, 29, 2, 10, 48, 2, 71, 45, 2, 59, 10, 67, 71, 9, 42, 19, 61, 87, 96, 41, 34, 9, 62, 80, 49, 30, 44, 68, 43, 24, 93, 43, 91, 76, 82, 18, 99, 57, 5, 2, 63, 18, 32, 95, 59, 70, 41, 43, 26, 52, 42, 99, 96, 64, 71, 31, 88, 83, 57, 7, 82, 63, 43, 46, 77, 15, 93, 31, 15, 80, 69, 48, 35, 44, 22, 10, 15, 99, 36, 93, 87, 11, 61, 24, 5, 40, 4, 27, 63, 65, 19, 81, 90, 84, 56, 40, 68, 28, 81, 37, 94, 23, 53, 78, 82, 85, 26, 78, 57, 8, 36, 25, 20, 83, 89, 12, 12, 84, 62, 87, 86, 85, 2, 5, 92, 47, 51, 54, 76, 99, 50, 89]\n",
            "49.258\n",
            "838.7962322322321\n"
          ],
          "name": "stdout"
        }
      ]
    },
    {
      "cell_type": "markdown",
      "metadata": {
        "id": "92dvsUB2Ttzn"
      },
      "source": [
        "*Exercise 9:* Combine your `generate_function`, `where`, and `in_range` functions above to create an integrate function. Use your integrate function to show that approximately 68% of Normal distribution is within one variance."
      ]
    },
    {
      "cell_type": "code",
      "metadata": {
        "id": "PhSz2FLBTtzn"
      },
      "source": [
        "def integrate(func, x_min, x_max, n_points=1000):\n",
        "    x=generate_function(g1,0,10)\n",
        "    h = (x_max-x_min)/float(n_points)\n",
        "    s = 0.5*(func(x_min) + func(x_max))\n",
        "    for i in range(1,n_points,1):\n",
        "        s = s + func(x_min + i*h)\n",
        "    integral = h*s\n",
        "    return integral\n",
        "def integral(x):\n",
        "    constant = 1.0 / math.sqrt(2*math.pi)\n",
        "    return(constant * math.exp((-x**2) / 2.0) )"
      ],
      "execution_count": null,
      "outputs": []
    },
    {
      "cell_type": "code",
      "metadata": {
        "id": "Y7N0sv4VTtzs",
        "outputId": "662c4b5a-3bc9-49cb-9873-a7d5c77c057a",
        "colab": {
          "base_uri": "https://localhost:8080/",
          "height": 35
        }
      },
      "source": [
        "result = integrate(integral, -1, 1)\n",
        "print (result)"
      ],
      "execution_count": null,
      "outputs": [
        {
          "output_type": "stream",
          "text": [
            "0.6826893308232487\n"
          ],
          "name": "stdout"
        }
      ]
    }
  ]
}